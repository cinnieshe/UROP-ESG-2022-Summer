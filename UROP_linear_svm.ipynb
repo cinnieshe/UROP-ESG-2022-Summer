{
 "cells": [
  {
   "cell_type": "markdown",
   "id": "ff395286",
   "metadata": {},
   "source": [
    "# Fine-Tune Linear SVM"
   ]
  },
  {
   "cell_type": "markdown",
   "id": "929ff557",
   "metadata": {},
   "source": [
    "## Load Libraries"
   ]
  },
  {
   "cell_type": "code",
   "execution_count": 1,
   "id": "775a84ab",
   "metadata": {},
   "outputs": [],
   "source": [
    "import pandas as pd\n",
    "from nltk.corpus import stopwords\n",
    "import re\n",
    "from sklearn.model_selection import train_test_split\n",
    "\n",
    "import matplotlib.pyplot as plt\n",
    "from sklearn.linear_model import SGDClassifier\n",
    "from sklearn.feature_extraction.text import CountVectorizer\n",
    "from sklearn.pipeline import Pipeline\n",
    "from sklearn.feature_extraction.text import TfidfTransformer\n",
    "from sklearn.metrics import classification_report, f1_score, accuracy_score, ConfusionMatrixDisplay, confusion_matrix"
   ]
  },
  {
   "cell_type": "markdown",
   "id": "353e96ff",
   "metadata": {},
   "source": [
    "## Utils"
   ]
  },
  {
   "cell_type": "code",
   "execution_count": 2,
   "id": "a20d54ec",
   "metadata": {},
   "outputs": [],
   "source": [
    "def load_data(filename):\n",
    "    \"\"\"\n",
    "    Input: string filename\n",
    "    Output: a pandas dataframe for the whole dataset after droping missing values\n",
    "    Support google colab or local environments\n",
    "    \"\"\"\n",
    "    try:\n",
    "        # local environment\n",
    "        df = pd.read_csv(filename)\n",
    "        df = df.dropna(subset=['sentence', 'label']) ## drop missing values\n",
    "        return df\n",
    "    except:\n",
    "        # google colab environment\n",
    "        from google.colab import drive\n",
    "        drive.mount('/content/drive')\n",
    "        \n",
    "        df = pd.read_csv('/content/drive/MyDrive/' + filename)\n",
    "        df = df.dropna(subset=['sentence', 'label']) ## drop missing values\n",
    "        return df"
   ]
  },
  {
   "cell_type": "code",
   "execution_count": 3,
   "id": "614b90db",
   "metadata": {},
   "outputs": [],
   "source": [
    "def split_data(df):\n",
    "    \"\"\"\n",
    "    Input: pandas dataframe\n",
    "    Output: training dataframe (81%), validation dataframe (9%), test dataframe (10%)\n",
    "    \"\"\"\n",
    "    df_train, df_val = train_test_split(df, stratify=df['label'],test_size=0.1, random_state=42)\n",
    "    \n",
    "    return df_train, df_val"
   ]
  },
  {
   "cell_type": "code",
   "execution_count": 4,
   "id": "3a9a8c44",
   "metadata": {},
   "outputs": [],
   "source": [
    "REPLACE_BY_SPACE_RE = re.compile('[/(){}\\[\\]\\|@,;]')\n",
    "BAD_SYMBOLS_RE = re.compile('[^0-9a-z #+_]')\n",
    "STOPWORDS = set(stopwords.words('english'))\n",
    "\n",
    "def clean_text(text):\n",
    "    \"\"\"\n",
    "        Input: string text\n",
    "        Output: string cleaned text\n",
    "    \"\"\"\n",
    "    text = text.lower() # lowercase text\n",
    "    text = REPLACE_BY_SPACE_RE.sub(' ', text) # replace REPLACE_BY_SPACE_RE symbols by space in text\n",
    "    text = BAD_SYMBOLS_RE.sub('', text) # delete symbols which are in BAD_SYMBOLS_RE from text\n",
    "    text = ' '.join(word for word in text.split() if word not in STOPWORDS) # delete stopwords from text\n",
    "    return text"
   ]
  },
  {
   "cell_type": "markdown",
   "id": "d777dd14",
   "metadata": {},
   "source": [
    "## Load data"
   ]
  },
  {
   "cell_type": "code",
   "execution_count": 5,
   "id": "7d380929",
   "metadata": {},
   "outputs": [],
   "source": [
    "FILENAME = 'final_dataset_formatted.csv'\n",
    "TEST_FILENAME = 'final_dataset_formatted_test.csv'\n",
    "\n",
    "# load data\n",
    "df = load_data(FILENAME)\n",
    "df_test = load_data(TEST_FILENAME)\n",
    "\n",
    "# labels\n",
    "labels = ['CC', 'NC', 'PW', 'HC', 'PL', 'CR', 'CG', 'BE', 'N']\n",
    "num_labels = 9\n",
    "\n",
    "# split data\n",
    "df_train, df_val = split_data(df)"
   ]
  },
  {
   "cell_type": "markdown",
   "id": "660377d4",
   "metadata": {},
   "source": [
    "## Preprocess data"
   ]
  },
  {
   "cell_type": "code",
   "execution_count": 6,
   "id": "f58b9d7b",
   "metadata": {},
   "outputs": [],
   "source": [
    "# clean text\n",
    "df_train['sentence'] = df_train['sentence'].apply(clean_text)\n",
    "df_val['sentence'] = df_val['sentence'].apply(clean_text)\n",
    "df_test['sentence'] = df_test['sentence'].apply(clean_text)"
   ]
  },
  {
   "cell_type": "code",
   "execution_count": 7,
   "id": "aa8be654",
   "metadata": {},
   "outputs": [
    {
     "data": {
      "text/plain": [
       "'total weight waste type disposal method'"
      ]
     },
     "execution_count": 7,
     "metadata": {},
     "output_type": "execute_result"
    }
   ],
   "source": [
    "# print processed sample data sentence\n",
    "df_train.iloc[10, 0]"
   ]
  },
  {
   "cell_type": "code",
   "execution_count": 8,
   "id": "f1031ef2",
   "metadata": {},
   "outputs": [],
   "source": [
    "# split text and labels\n",
    "train_texts = df_train.iloc[:, 0]\n",
    "train_labels = df_train.iloc[:, 1]\n",
    "valid_texts = df_val.iloc[:, 0]\n",
    "valid_labels = df_val.iloc[:, 1]\n",
    "test_texts = df_test.iloc[:, 0]\n",
    "test_labels = df_test.iloc[:, 1]"
   ]
  },
  {
   "cell_type": "code",
   "execution_count": 9,
   "id": "556aa048",
   "metadata": {},
   "outputs": [
    {
     "name": "stdout",
     "output_type": "stream",
     "text": [
      "train size: 3645\n",
      "valid size: 405\n",
      "test size: 450\n"
     ]
    }
   ],
   "source": [
    "# get train, validation, and test dataset size\n",
    "train_size = len(train_texts)\n",
    "valid_size = len(valid_texts)\n",
    "test_size = len(test_texts)\n",
    "\n",
    "print(f'train size: {train_size}')\n",
    "print(f'valid size: {valid_size}')\n",
    "print(f'test size: {test_size}')"
   ]
  },
  {
   "cell_type": "markdown",
   "id": "00fde542",
   "metadata": {},
   "source": [
    "## Fine-Tune Model"
   ]
  },
  {
   "cell_type": "code",
   "execution_count": 10,
   "id": "758b6a95",
   "metadata": {},
   "outputs": [
    {
     "name": "stdout",
     "output_type": "stream",
     "text": [
      "Best model: \n",
      "alpha: 0.001, max_iter: 100, acc: 0.8271604938271605, macro_f1: 0.8263163640712641\n"
     ]
    }
   ],
   "source": [
    "alpha_list = [1e-6, 1e-5, 1e-4, 1e-3, 1e-2, 0.1] #1e-3\n",
    "max_iter_list = [1, 3, 5, 10, 15, 50, 100] #5\n",
    "\n",
    "best_alpha = 0\n",
    "best_max_iter = 0\n",
    "best_acc = 0\n",
    "max_f1 = 0\n",
    "\n",
    "for alpha in alpha_list:\n",
    "    for max_iter in max_iter_list:\n",
    "        \n",
    "        # build model\n",
    "        sgd = Pipeline([('vect', CountVectorizer()),\n",
    "                        ('tfidf', TfidfTransformer()),\n",
    "                        ('clf', SGDClassifier(loss='hinge', penalty='l2',alpha=alpha, random_state=42, max_iter=max_iter, tol=None)),\n",
    "                       ])\n",
    "        # train model\n",
    "        sgd.fit(train_texts, train_labels)\n",
    "\n",
    "        # generate prediction\n",
    "        y_pred = sgd.predict(valid_texts)\n",
    "\n",
    "        # evaluate performance\n",
    "        acc = accuracy_score(valid_labels, y_pred)\n",
    "        f1 = f1_score(valid_labels, y_pred, average='macro')\n",
    "#         print(f'alpha: {alpha}, max_iter: {max_iter}:')\n",
    "#         print(f'accuracy: {acc:.4f}')\n",
    "#         print(f'macro_f1: {f1:.4f}')\n",
    "\n",
    "        # find best model (highest macro_f1 score)\n",
    "        if f1 >= max_f1:\n",
    "            best_alpha = alpha\n",
    "            best_max_iter = max_iter\n",
    "            best_acc = acc\n",
    "            max_f1 = f1\n",
    "        \n",
    "#         print()\n",
    "\n",
    "print(f'Best model: ')\n",
    "print(f'alpha: {best_alpha}, max_iter: {max_iter}, acc: {best_acc}, macro_f1: {max_f1}')"
   ]
  },
  {
   "cell_type": "markdown",
   "id": "dfd3824d",
   "metadata": {},
   "source": [
    "## Final Linear SVM Model"
   ]
  },
  {
   "cell_type": "code",
   "execution_count": 11,
   "id": "cdfcd6bb",
   "metadata": {},
   "outputs": [
    {
     "name": "stdout",
     "output_type": "stream",
     "text": [
      "accuracy 0.8271604938271605\n",
      "macro_f1 score: 0.8263163640712641\n",
      "              precision    recall  f1-score   support\n",
      "\n",
      "          CC       0.75      0.87      0.80        45\n",
      "          NC       0.93      0.84      0.88        45\n",
      "          PW       0.89      0.91      0.90        45\n",
      "          HC       0.83      0.67      0.74        45\n",
      "          PL       0.74      0.82      0.78        45\n",
      "          CR       0.84      0.80      0.82        45\n",
      "          CG       0.78      0.96      0.86        45\n",
      "          BE       0.82      0.73      0.78        45\n",
      "           N       0.90      0.84      0.87        45\n",
      "\n",
      "    accuracy                           0.83       405\n",
      "   macro avg       0.83      0.83      0.83       405\n",
      "weighted avg       0.83      0.83      0.83       405\n",
      "\n"
     ]
    }
   ],
   "source": [
    "# build model\n",
    "sgd = Pipeline([('vect', CountVectorizer()),\n",
    "                ('tfidf', TfidfTransformer()),\n",
    "                ('clf', SGDClassifier(loss='hinge', penalty='l2',alpha=best_alpha, random_state=42, max_iter=best_max_iter, tol=None)),\n",
    "               ])\n",
    "# train model\n",
    "sgd.fit(train_texts, train_labels)\n",
    "\n",
    "# generate prediction\n",
    "y_pred = sgd.predict(valid_texts)\n",
    "f1 = f1_score(valid_labels, y_pred, average='macro')\n",
    "\n",
    "# evaluate model performance\n",
    "print('accuracy %s' % accuracy_score(y_pred, valid_labels))\n",
    "print(f'macro_f1 score: {f1}')\n",
    "print(classification_report(valid_labels, y_pred,target_names=labels))"
   ]
  },
  {
   "cell_type": "markdown",
   "id": "289ff151",
   "metadata": {},
   "source": [
    "## Final Model Test Prediction"
   ]
  },
  {
   "cell_type": "code",
   "execution_count": 12,
   "id": "ce9c3120",
   "metadata": {},
   "outputs": [
    {
     "name": "stdout",
     "output_type": "stream",
     "text": [
      "accuracy 0.8488888888888889\n",
      "macro_f1 score: 0.8483276313714592\n",
      "              precision    recall  f1-score   support\n",
      "\n",
      "          CC       0.89      0.94      0.91        50\n",
      "          NC       0.88      0.92      0.90        50\n",
      "          PW       0.86      0.88      0.87        50\n",
      "          HC       0.88      0.72      0.79        50\n",
      "          PL       0.72      0.84      0.78        50\n",
      "          CR       0.88      0.76      0.82        50\n",
      "          CG       0.88      0.88      0.88        50\n",
      "          BE       0.85      0.82      0.84        50\n",
      "           N       0.81      0.88      0.85        50\n",
      "\n",
      "    accuracy                           0.85       450\n",
      "   macro avg       0.85      0.85      0.85       450\n",
      "weighted avg       0.85      0.85      0.85       450\n",
      "\n"
     ]
    }
   ],
   "source": [
    "# generate prediction\n",
    "y_pred = sgd.predict(test_texts)\n",
    "f1 = f1_score(test_labels, y_pred, average='macro')\n",
    "\n",
    "# evaluate model performance\n",
    "print('accuracy %s' % accuracy_score(y_pred, test_labels))\n",
    "print(f'macro_f1 score: {f1}')\n",
    "print(classification_report(test_labels, y_pred,target_names=labels))"
   ]
  },
  {
   "cell_type": "code",
   "execution_count": 13,
   "id": "3d678f48",
   "metadata": {},
   "outputs": [
    {
     "data": {
      "text/plain": [
       "<sklearn.metrics._plot.confusion_matrix.ConfusionMatrixDisplay at 0x1ded7c68b50>"
      ]
     },
     "execution_count": 13,
     "metadata": {},
     "output_type": "execute_result"
    },
    {
     "data": {
      "image/png": "[encoded data removed]",
      "text/plain": [
       "<Figure size 720x720 with 2 Axes>"
      ]
     },
     "metadata": {
      "needs_background": "light"
     },
     "output_type": "display_data"
    }
   ],
   "source": [
    "# plot confusion matrix\n",
    "cm = confusion_matrix(test_labels, y_pred , normalize='pred')\n",
    "cmp = ConfusionMatrixDisplay(confusion_matrix=cm, display_labels=labels)\n",
    "fig, ax = plt.subplots(figsize=(10,10))\n",
    "cmp.plot(ax=ax)"
   ]
  },
  {
   "cell_type": "code",
   "execution_count": null,
   "id": "02ba1c62",
   "metadata": {},
   "outputs": [],
   "source": []
  }
 ],
 "metadata": {
  "kernelspec": {
   "display_name": "Python 3 (ipykernel)",
   "language": "python",
   "name": "python3"
  },
  "language_info": {
   "codemirror_mode": {
    "name": "ipython",
    "version": 3
   },
   "file_extension": ".py",
   "mimetype": "text/x-python",
   "name": "python",
   "nbconvert_exporter": "python",
   "pygments_lexer": "ipython3",
   "version": "3.8.13"
  }
 },
 "nbformat": 4,
 "nbformat_minor": 5
}
