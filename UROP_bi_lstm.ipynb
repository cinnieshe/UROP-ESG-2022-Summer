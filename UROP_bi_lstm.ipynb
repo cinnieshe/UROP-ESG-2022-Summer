{
  "cells": [
    {
      "cell_type": "markdown",
      "id": "f5d7493e",
      "metadata": {
        "id": "f5d7493e"
      },
      "source": [
        "# Fine-Tune Bi-Directional LSTM"
      ]
    },
    {
      "cell_type": "markdown",
      "id": "009958f8",
      "metadata": {
        "id": "009958f8"
      },
      "source": [
        "## Load libraries"
      ]
    },
    {
      "cell_type": "code",
      "execution_count": 15,
      "id": "58f8830d",
      "metadata": {
        "colab": {
          "base_uri": "https://localhost:8080/"
        },
        "id": "58f8830d",
        "outputId": "60c67d91-c505-4b91-cc96-0dffcd06c75c"
      },
      "outputs": [
        {
          "output_type": "stream",
          "name": "stderr",
          "text": [
            "[nltk_data] Downloading package stopwords to /root/nltk_data...\n",
            "[nltk_data]   Package stopwords is already up-to-date!\n",
            "[nltk_data] Downloading package punkt to /root/nltk_data...\n",
            "[nltk_data]   Unzipping tokenizers/punkt.zip.\n"
          ]
        }
      ],
      "source": [
        "import os # store and load weight\n",
        "import pandas as pd # load data\n",
        "import nltk # text processing\n",
        "nltk.download('stopwords')\n",
        "nltk.download('punkt')\n",
        "from nltk.stem import PorterStemmer # text processing\n",
        "from nltk.corpus import stopwords #text processing\n",
        "import numpy as np # one-hot vector\n",
        "import matplotlib.pyplot as plt # model analysis\n",
        "from itertools import chain # feature construction\n",
        "from collections import Counter # build feats-dict\n",
        "from sklearn.metrics import accuracy_score, f1_score, ConfusionMatrixDisplay, confusion_matrix, classification_report\n",
        "from sklearn.model_selection import train_test_split\n",
        "\n",
        "# import keras\n",
        "from tensorflow import keras\n",
        "import tensorflow as tf\n",
        "from keras.models import Sequential, Model\n",
        "from keras.layers import Dense, Activation, Embedding, Dropout, BatchNormalization, Input, Add, Concatenate,\\\n",
        "    Bidirectional, SimpleRNN, LSTM, GRU\n",
        "\n",
        "\n",
        "stopwords = set(stopwords.words(\"english\"))\n",
        "ps = PorterStemmer()"
      ]
    },
    {
      "cell_type": "markdown",
      "id": "08e6bf78",
      "metadata": {
        "id": "08e6bf78"
      },
      "source": [
        "## Utils"
      ]
    },
    {
      "cell_type": "code",
      "execution_count": 6,
      "id": "cc4574c0",
      "metadata": {
        "id": "cc4574c0"
      },
      "outputs": [],
      "source": [
        "def load_data(filename):\n",
        "    \"\"\"\n",
        "    Input: string filename\n",
        "    Output: a pandas dataframe for the whole dataset after droping missing values\n",
        "    Support google colab or local environments\n",
        "    \"\"\"\n",
        "    try:\n",
        "        # local environment\n",
        "        df = pd.read_csv(filename)\n",
        "        df = df.dropna(subset=['sentence', 'label']) ## drop missing values\n",
        "        return df\n",
        "    except:\n",
        "        # google colab environment\n",
        "        from google.colab import drive\n",
        "        drive.mount('/content/drive')\n",
        "        \n",
        "        df = pd.read_csv('/content/drive/MyDrive/' + filename)\n",
        "        df = df.dropna(subset=['sentence', 'label']) ## drop missing values\n",
        "        return df"
      ]
    },
    {
      "cell_type": "code",
      "execution_count": 7,
      "id": "2b8210f7",
      "metadata": {
        "id": "2b8210f7"
      },
      "outputs": [],
      "source": [
        "def split_data(df):\n",
        "    \"\"\"\n",
        "    Input: pandas dataframe\n",
        "    Output: training dataframe (81%), validation dataframe (9%), test dataframe (10%)\n",
        "    \"\"\"\n",
        "    df_train, df_val = train_test_split(df, stratify=df['label'],test_size=0.1, random_state=42)\n",
        "    \n",
        "    return df_train, df_val"
      ]
    },
    {
      "cell_type": "code",
      "execution_count": 8,
      "id": "b1e2f6ea",
      "metadata": {
        "id": "b1e2f6ea"
      },
      "outputs": [],
      "source": [
        "def tokenize(text):\n",
        "    \"\"\"\n",
        "    :param text: a doc with multiple sentences, type: str\n",
        "    return a word list, type: list\n",
        "    e.g.\n",
        "    Input: 'Text mining is to identify useful information.'\n",
        "    Output: ['Text', 'mining', 'is', 'to', 'identify', 'useful', 'information', '.']\n",
        "    \"\"\"\n",
        "    return nltk.word_tokenize(text)\n",
        "\n",
        "def stem(tokens):\n",
        "    \"\"\"\n",
        "    :param tokens: a list of tokens, type: list\n",
        "    return a list of stemmed words, type: list\n",
        "    e.g.\n",
        "    Input: ['Text', 'mining', 'is', 'to', 'identify', 'useful', 'information', '.']\n",
        "    Output: ['text', 'mine', 'is', 'to', 'identifi', 'use', 'inform', '.']\n",
        "    \"\"\"\n",
        "\n",
        "    return [ps.stem(token) for token in tokens]\n",
        "\n",
        "def n_gram(tokens, n=1):\n",
        "    \"\"\"\n",
        "    :param tokens: a list of tokens, type: list\n",
        "    :param n: the corresponding n-gram, type: int\n",
        "    return a list of n-gram tokens, type: list\n",
        "    e.g.\n",
        "    Input: ['text', 'mine', 'is', 'to', 'identifi', 'use', 'inform', '.'], 2\n",
        "    Output: ['text mine', 'mine is', 'is to', 'to identifi', 'identifi use', 'use inform', 'inform .']\n",
        "    \"\"\"\n",
        "    if n == 1:\n",
        "        return tokens\n",
        "    else:\n",
        "        results = list()\n",
        "        for i in range(len(tokens)-n+1):\n",
        "            # tokens[i:i+n] will return a sublist from i th to i+n th (i+n th is not included)\n",
        "            results.append(\" \".join(tokens[i:i+n]))\n",
        "        return results\n",
        "    \n",
        "def filter_stopwords(tokens):\n",
        "    \"\"\"\n",
        "    :param tokens: a list of tokens, type: list\n",
        "    return a list of filtered tokens, type: list\n",
        "    e.g.\n",
        "    Input: ['text', 'mine', 'is', 'to', 'identifi', 'use', 'inform', '.']\n",
        "    Output: ['text', 'mine', 'identifi', 'use', 'inform', '.']\n",
        "    \"\"\"\n",
        "    return [token for token in tokens if token not in stopwords and not token.isnumeric()]\n",
        "\n",
        "def get_feats_dict(feats, min_freq=-1, max_freq=-1, max_size=-1):\n",
        "    \"\"\"\n",
        "    :param data: a list of features, type: list(list)\n",
        "    :param min_freq: the lowest fequency that the fequency of a feature smaller than it will be filtered out, type: int\n",
        "    :param max_freq: the highest fequency that the fequency of a feature larger than it will be filtered out, type: int\n",
        "    :param max_size: the max size of feature dict, type: int\n",
        "    return a feature dict that maps features to indices, sorted by frequencies\n",
        "    # Counter document: https://docs.python.org/3.6/library/collections.html#collections.Counter\n",
        "    \"\"\"\n",
        "    # count all features\n",
        "    feat_cnt = Counter(feats) # [\"text\", \"text\", \"mine\"] --> {\"text\": 2, \"mine\": 1}\n",
        "    if max_size > 0 and min_freq == -1 and max_freq == -1:\n",
        "        valid_feats = [f for f, cnt in feat_cnt.most_common(max_size)]\n",
        "    else:\n",
        "        valid_feats = list()\n",
        "        for f, cnt in feat_cnt.most_common():\n",
        "            if (min_freq == -1 or cnt >= min_freq) and \\\n",
        "                (max_freq == -1 or cnt <= max_freq):\n",
        "                valid_feats.append(f)\n",
        "    if max_size > 0 and len(valid_feats) > max_size:\n",
        "        valid_feats = valid_feats[:max_size]        \n",
        "    print(\"Size of features:\", len(valid_feats))\n",
        "    \n",
        "    # build a mapping from features to indices\n",
        "    feats_dict = dict(zip(valid_feats, range(len(valid_feats))))\n",
        "    return feats_dict\n",
        "\n",
        "def get_onehot_vector(feats, feats_dict):\n",
        "    \"\"\"\n",
        "    :param feats: a list of features, type: list\n",
        "    :param feats_dict: a dict from features to indices, type: dict\n",
        "    return a feature vector,\n",
        "    \"\"\"\n",
        "    # initialize the vector as all zeros\n",
        "    vector = np.zeros(len(feats_dict), dtype=np.float)\n",
        "    for f in feats:\n",
        "        # get the feature index, return -1 if the feature is not existed\n",
        "        f_idx = feats_dict.get(f, -1)\n",
        "        if f_idx != -1:\n",
        "            # set the corresponding element as 1\n",
        "            vector[f_idx] = 1\n",
        "    return vector\n",
        "\n",
        "# Get index vector\n",
        "def get_index_vector(feats, feats_dict, max_len):\n",
        "    \"\"\"\n",
        "    :param feats: a list of features, type: list\n",
        "    :param feats_dict: a dict from features to indices, type: dict\n",
        "    :param feats: a list of features, type: list\n",
        "    return a feature vector,\n",
        "    \"\"\"\n",
        "    # initialize the vector as all zeros\n",
        "    vector = np.zeros(max_len, dtype=np.int64)\n",
        "    for i, f in enumerate(feats):\n",
        "        if i == max_len:\n",
        "            break\n",
        "        # get the feature index, return 1 (<unk>) if the feature is not existed\n",
        "        try:\n",
        "            vector[i] = feats_dict[f]\n",
        "        except KeyError:\n",
        "            vector[i] = 1\n",
        "    return vector"
      ]
    },
    {
      "cell_type": "code",
      "execution_count": 9,
      "id": "ba2e5264",
      "metadata": {
        "id": "ba2e5264"
      },
      "outputs": [],
      "source": [
        "def build_RNN(input_length, vocab_size, embedding_size,\n",
        "              hidden_size, output_size,\n",
        "              num_rnn_layers, num_mlp_layers,\n",
        "              rnn_type=\"lstm\",\n",
        "              bidirectional=False,\n",
        "              embedding_matrix=None,\n",
        "              activation=\"tanh\",\n",
        "              dropout_rate=0.0,\n",
        "              batch_norm=False,\n",
        "              l2_reg=0.0,\n",
        "              loss=\"categorical_crossentropy\",\n",
        "              optimizer=\"Adam\",\n",
        "              learning_rate=0.001,\n",
        "              metric=\"accuracy\"):\n",
        "\n",
        "    x = Input(shape=(input_length,))\n",
        "    \n",
        "    ################################\n",
        "    ###### Word Representation #####\n",
        "    ################################\n",
        "    # word representation layer\n",
        "    if embedding_matrix is not None:\n",
        "        emb = Embedding(input_dim=vocab_size,\n",
        "                        output_dim=embedding_size,\n",
        "                        input_length=input_length,\n",
        "                        embeddings_initializer=keras.initializers.Constant(embedding_matrix),\n",
        "                        trainable=False)(x)\n",
        "    else:\n",
        "        emb = Embedding(input_dim=vocab_size,\n",
        "                        output_dim=embedding_size,\n",
        "                        input_length=input_length,\n",
        "                        embeddings_initializer=keras.initializers.TruncatedNormal(mean=0.0, stddev=0.1, seed=0))(x)\n",
        "    \n",
        "    ################################\n",
        "    ####### Recurrent Layers #######\n",
        "    ################################\n",
        "    # recurrent layers\n",
        "    if rnn_type == \"rnn\":\n",
        "        fn = SimpleRNN\n",
        "    elif rnn_type == \"lstm\":\n",
        "        fn = LSTM\n",
        "    elif rnn_type == \"gru\":\n",
        "        fn = GRU\n",
        "    else:\n",
        "        raise NotImplementedError\n",
        "    h = emb\n",
        "    for i in range(num_rnn_layers):\n",
        "        is_last = (i == num_rnn_layers-1)\n",
        "        if bidirectional:\n",
        "            h = Bidirectional(fn(hidden_size,\n",
        "                                 kernel_initializer=keras.initializers.glorot_uniform(seed=0),\n",
        "                                 recurrent_initializer=keras.initializers.Orthogonal(gain=1.0, seed=0),\n",
        "                                 return_sequences=not is_last))(h)\n",
        "        else:\n",
        "            h = fn(hidden_size,\n",
        "                   kernel_initializer=keras.initializers.glorot_uniform(seed=0),\n",
        "                   recurrent_initializer=keras.initializers.Orthogonal(gain=1.0, seed=0),\n",
        "                   return_sequences=not is_last)(h)\n",
        "        h = Dropout(dropout_rate, seed=0)(h)\n",
        "    \n",
        "    ################################\n",
        "    #### Fully Connected Layers ####\n",
        "    ################################\n",
        "    # multi-layer perceptron\n",
        "    for i in range(num_mlp_layers-1):\n",
        "        new_h = Dense(hidden_size,\n",
        "                      kernel_initializer=keras.initializers.he_normal(seed=0),\n",
        "                      bias_initializer=\"zeros\",\n",
        "                      kernel_regularizer=keras.regularizers.l2(l2_reg))(h)\n",
        "        # add batch normalization layer\n",
        "        if batch_norm:\n",
        "            new_h = BatchNormalization()(new_h)\n",
        "        # add residual connection\n",
        "        if i == 0:\n",
        "            h = new_h\n",
        "        else:\n",
        "            h = Add()([h, new_h])\n",
        "        # add activation\n",
        "        h = Activation(activation)(h)\n",
        "    y = Dense(output_size,\n",
        "              activation=\"softmax\",\n",
        "              kernel_initializer=keras.initializers.he_normal(seed=0),\n",
        "              bias_initializer=\"zeros\")(h)\n",
        "    \n",
        "    # set the loss, the optimizer, and the metric\n",
        "    if optimizer == \"SGD\":\n",
        "        optimizer = keras.optimizers.SGD(learning_rate=learning_rate)\n",
        "    elif optimizer == \"RMSprop\":\n",
        "        optmizer = keras.optimizers.RMSprop(learning_rate=learning_rate)\n",
        "    elif optimizer == \"Adam\":\n",
        "        optmizer = keras.optimizers.Adam(learning_rate=learning_rate)\n",
        "    else:\n",
        "        raise NotImplementedError\n",
        "    model = Model(x, y)\n",
        "    model.compile(loss=loss, optimizer=optimizer, metrics=['accuracy', tf.keras.metrics.Precision(), tf.keras.metrics.Recall()])\n",
        "    \n",
        "    return model"
      ]
    },
    {
      "cell_type": "markdown",
      "id": "6e808299",
      "metadata": {
        "id": "6e808299"
      },
      "source": [
        "## Load data"
      ]
    },
    {
      "cell_type": "code",
      "execution_count": 10,
      "id": "a800533e",
      "metadata": {
        "colab": {
          "base_uri": "https://localhost:8080/"
        },
        "id": "a800533e",
        "outputId": "04ebde61-be44-4795-9c78-bd46d6051cd9"
      },
      "outputs": [
        {
          "output_type": "stream",
          "name": "stdout",
          "text": [
            "Mounted at /content/drive\n",
            "Drive already mounted at /content/drive; to attempt to forcibly remount, call drive.mount(\"/content/drive\", force_remount=True).\n"
          ]
        }
      ],
      "source": [
        "FILENAME = 'final_dataset_formatted.csv'\n",
        "TEST_FILENAME = 'final_dataset_formatted_test.csv'\n",
        "\n",
        "# load data\n",
        "df = load_data(FILENAME)\n",
        "df_test = load_data(TEST_FILENAME)\n",
        "\n",
        "# labels\n",
        "labels = ['CC', 'NC', 'PW', 'HC', 'PL', 'CR', 'CG', 'BE', 'N']\n",
        "num_labels = 9\n",
        "\n",
        "# split data\n",
        "df_train, df_val = split_data(df)"
      ]
    },
    {
      "cell_type": "markdown",
      "id": "e3ef1538",
      "metadata": {
        "id": "e3ef1538"
      },
      "source": [
        "## Preprocess data"
      ]
    },
    {
      "cell_type": "code",
      "execution_count": 12,
      "id": "9c1e5c86",
      "metadata": {
        "id": "9c1e5c86"
      },
      "outputs": [],
      "source": [
        "# split text and labels\n",
        "train_texts = df_train.iloc[:, 0]\n",
        "train_labels = df_train.iloc[:, 1]\n",
        "valid_texts = df_val.iloc[:, 0]\n",
        "valid_labels = df_val.iloc[:, 1]\n",
        "test_texts = df_test.iloc[:, 0]\n",
        "test_labels = df_test.iloc[:, 1]"
      ]
    },
    {
      "cell_type": "code",
      "execution_count": 13,
      "id": "06f680cb",
      "metadata": {
        "colab": {
          "base_uri": "https://localhost:8080/"
        },
        "id": "06f680cb",
        "outputId": "a8d9dfc0-b761-452a-8cb0-96899e7406f2"
      },
      "outputs": [
        {
          "output_type": "stream",
          "name": "stdout",
          "text": [
            "train size: 3645\n",
            "valid size: 405\n",
            "test size: 450\n"
          ]
        }
      ],
      "source": [
        "# get train, validation, and test dataset size\n",
        "train_size = len(train_texts)\n",
        "valid_size = len(valid_texts)\n",
        "test_size = len(test_texts)\n",
        "\n",
        "print(f'train size: {train_size}')\n",
        "print(f'valid size: {valid_size}')\n",
        "print(f'test size: {test_size}')"
      ]
    },
    {
      "cell_type": "code",
      "execution_count": 16,
      "id": "22a28c0b",
      "metadata": {
        "colab": {
          "base_uri": "https://localhost:8080/"
        },
        "id": "22a28c0b",
        "outputId": "0a6f2a94-4fa6-45c9-ade5-33bcf8173c03"
      },
      "outputs": [
        {
          "output_type": "stream",
          "name": "stdout",
          "text": [
            "Size of features: 2465\n"
          ]
        }
      ],
      "source": [
        "# extract features\n",
        "min_freq = 3\n",
        "\n",
        "train_tokens = [tokenize(text) for text in train_texts]\n",
        "valid_tokens = [tokenize(text) for text in valid_texts]\n",
        "test_tokens = [tokenize(text) for text in test_texts]\n",
        "\n",
        "train_stemmed = [stem(tokens) for tokens in train_tokens]\n",
        "valid_stemmed = [stem(tokens) for tokens in valid_tokens]\n",
        "test_stemmed = [stem(tokens) for tokens in test_tokens]\n",
        "\n",
        "train_feats = [filter_stopwords(tokens) for tokens in train_stemmed]\n",
        "valid_feats = [filter_stopwords(tokens) for tokens in valid_stemmed]\n",
        "test_feats = [filter_stopwords(tokens) for tokens in test_stemmed]\n",
        "\n",
        "# build a mapping from features to indices\n",
        "feats_dict = get_feats_dict(\n",
        "    chain.from_iterable(train_feats),\n",
        "    min_freq=min_freq)"
      ]
    },
    {
      "cell_type": "code",
      "execution_count": 17,
      "id": "14716d41",
      "metadata": {
        "id": "14716d41"
      },
      "outputs": [],
      "source": [
        "max_len = 75 # from EDA\n",
        "\n",
        "# build the feats_matrix\n",
        "# convert each example to a index vector, and then stack vectors as a matrix\n",
        "train_feats_matrix = np.vstack(\n",
        "    [get_index_vector(f, feats_dict, max_len) for f in train_feats])\n",
        "valid_feats_matrix = np.vstack(\n",
        "    [get_index_vector(f, feats_dict, max_len) for f in valid_feats])\n",
        "test_feats_matrix = np.vstack(\n",
        "    [get_index_vector(f, feats_dict, max_len) for f in test_feats])\n",
        "\n",
        "# convert each label to a ont-hot vector, and then stack vectors as a matrix\n",
        "train_label_matrix = keras.utils.to_categorical(train_labels, num_classes=num_labels)\n",
        "valid_label_matrix = keras.utils.to_categorical(valid_labels, num_classes=num_labels)\n",
        "test_label_matrix = tf.keras.utils.to_categorical(test_labels, num_classes=num_labels)"
      ]
    },
    {
      "cell_type": "markdown",
      "id": "14b1fd1d",
      "metadata": {
        "id": "14b1fd1d"
      },
      "source": [
        "## Fine-Tune Model  \n",
        "    \n",
        "embedding_size  \n",
        "hidden_size  \n",
        "num_rnn_layers  \n",
        "num_mlp_layers  \n",
        "activation  \n",
        "dropout_rate  \n",
        "batch_norm  \n",
        "l2_reg  \n",
        "optimizer  \n",
        "learning_rate  "
      ]
    },
    {
      "cell_type": "code",
      "execution_count": 18,
      "id": "63ef2920",
      "metadata": {
        "id": "63ef2920"
      },
      "outputs": [],
      "source": [
        "# set seed\n",
        "np.random.seed(0)\n",
        "tf.random.set_seed(0)"
      ]
    },
    {
      "cell_type": "code",
      "execution_count": 19,
      "id": "71105160",
      "metadata": {
        "id": "71105160"
      },
      "outputs": [],
      "source": [
        "# indicator for saving models' weights\n",
        "count = 0\n",
        "\n",
        "# lstm\n",
        "rnn_type=\"lstm\"\n",
        "bidirectional=True\n",
        "\n",
        "# initial settings\n",
        "epoch = 30\n",
        "batch_size = 100\n",
        "\n",
        "embedding_size=100\n",
        "hidden_size=100\n",
        "num_rnn_layers=1\n",
        "num_mlp_layers=2\n",
        "activation='tanh'\n",
        "dropout_rate=0.5\n",
        "batch_norm=True\n",
        "l2_reg=0.005\n",
        "optimizer=\"Adam\"\n",
        "learning_rate=0.1"
      ]
    },
    {
      "cell_type": "markdown",
      "id": "d734c154",
      "metadata": {
        "id": "d734c154"
      },
      "source": [
        "### Optimizer"
      ]
    },
    {
      "cell_type": "code",
      "execution_count": 20,
      "id": "cd926c58",
      "metadata": {
        "colab": {
          "base_uri": "https://localhost:8080/"
        },
        "id": "cd926c58",
        "outputId": "7a1cb0d9-c1c8-4d54-c801-e2eb11291d91"
      },
      "outputs": [
        {
          "output_type": "stream",
          "name": "stdout",
          "text": [
            "count: 1\n",
            "optimizer: SGD\n",
            "accuracy: 0.7531\n",
            "macro_f1: 0.7527\n",
            "----------------------------------------------------------------------------\n",
            "count: 2\n",
            "optimizer: RMSprop\n",
            "accuracy: 0.8025\n",
            "macro_f1: 0.8026\n",
            "----------------------------------------------------------------------------\n",
            "count: 3\n",
            "optimizer: Adam\n",
            "accuracy: 0.8049\n",
            "macro_f1: 0.8038\n",
            "----------------------------------------------------------------------------\n",
            "Best model:\n",
            "optimizer: Adam, accuracy: 0.8049382716049382, macro_f1: 0.8038014081868171\n"
          ]
        }
      ],
      "source": [
        "optimizer_list = ['SGD', 'RMSprop', 'Adam']\n",
        "best_optimizer = ''\n",
        "best_acc = 0\n",
        "best_f1 = 0\n",
        "\n",
        "for optimizer in optimizer_list:\n",
        "\n",
        "    count += 1\n",
        "\n",
        "    model = build_RNN(input_length=max_len, \n",
        "                          vocab_size=len(feats_dict), \n",
        "                          embedding_size=embedding_size,\n",
        "                          hidden_size=hidden_size, \n",
        "                          output_size=9,\n",
        "                          num_rnn_layers=num_rnn_layers, \n",
        "                          num_mlp_layers=num_mlp_layers,\n",
        "                          rnn_type=rnn_type,\n",
        "                          bidirectional=bidirectional,\n",
        "                          activation=activation,\n",
        "                          dropout_rate=dropout_rate,\n",
        "                          batch_norm=batch_norm,\n",
        "                          l2_reg=l2_reg,\n",
        "                          optimizer=optimizer,\n",
        "                          learning_rate=learning_rate,\n",
        "                        )\n",
        "\n",
        "    checkpointer = keras.callbacks.ModelCheckpoint(\n",
        "        filepath=os.path.join(\"models\", f\"weights_RNN_tune{count}.hdf5\"),\n",
        "        monitor=\"val_accuracy\",\n",
        "        verbose=0,\n",
        "        save_best_only=True)\n",
        "\n",
        "    mlp_history = model.fit(train_feats_matrix, train_label_matrix,\n",
        "                        validation_data=(valid_feats_matrix, valid_label_matrix),\n",
        "                        epochs=epoch, batch_size=batch_size, verbose=0,\n",
        "                        callbacks=[checkpointer])\n",
        "\n",
        "    model = keras.models.load_model(os.path.join(\"models\", f\"weights_RNN_tune{count}.hdf5\"))\n",
        "\n",
        "    print(f'count: {count}')\n",
        "    print(f'optimizer: {optimizer}')\n",
        "\n",
        "    # evaluation\n",
        "    # generate prediction and format\n",
        "    y_pred = model.predict(valid_feats_matrix)\n",
        "    y_pred = [np.argmax(row) for row in y_pred]\n",
        "    y_pred = np.array(y_pred)\n",
        "\n",
        "    # evaluate performance\n",
        "    acc = accuracy_score(valid_labels, y_pred)\n",
        "    f1 = f1_score(valid_labels, y_pred, average='macro')\n",
        "    print(f'accuracy: {acc:.4f}')\n",
        "    print(f'macro_f1: {f1:.4f}')\n",
        "\n",
        "    # save best model\n",
        "    if f1 > best_f1:\n",
        "        best_optimizer = optimizer\n",
        "        best_acc = acc\n",
        "        best_f1 = f1\n",
        "    \n",
        "    print('----------------------------------------------------------------------------')\n",
        "\n",
        "print('Best model:')\n",
        "print(f'optimizer: {best_optimizer}, accuracy: {best_acc}, macro_f1: {best_f1}')"
      ]
    },
    {
      "cell_type": "code",
      "execution_count": 21,
      "id": "fae2666e",
      "metadata": {
        "id": "fae2666e"
      },
      "outputs": [],
      "source": [
        "optimizer = best_optimizer"
      ]
    },
    {
      "cell_type": "markdown",
      "id": "1a67de14",
      "metadata": {
        "id": "1a67de14"
      },
      "source": [
        "### activation"
      ]
    },
    {
      "cell_type": "code",
      "execution_count": 22,
      "id": "3026ae0b",
      "metadata": {
        "colab": {
          "base_uri": "https://localhost:8080/"
        },
        "id": "3026ae0b",
        "outputId": "858252e2-cfd5-4d70-e9a5-f50fa5b79097"
      },
      "outputs": [
        {
          "output_type": "stream",
          "name": "stdout",
          "text": [
            "count: 4\n",
            "activation: relu\n",
            "accuracy: 0.7951\n",
            "macro_f1: 0.7939\n",
            "----------------------------------------------------------------------------\n",
            "count: 5\n",
            "activation: tanh\n",
            "accuracy: 0.8099\n",
            "macro_f1: 0.8107\n",
            "----------------------------------------------------------------------------\n",
            "Best model:\n",
            "activation: tanh, accuracy: 0.8098765432098766, macro_f1: 0.8106764205691287\n"
          ]
        }
      ],
      "source": [
        "activation_list = ['relu', 'tanh']\n",
        "best_activation = ''\n",
        "best_acc = 0\n",
        "best_f1 = 0\n",
        "\n",
        "for activation in activation_list:\n",
        "\n",
        "    count += 1\n",
        "\n",
        "    model = build_RNN(input_length=max_len, \n",
        "                          vocab_size=len(feats_dict), \n",
        "                          embedding_size=embedding_size,\n",
        "                          hidden_size=hidden_size, \n",
        "                          output_size=9,\n",
        "                          num_rnn_layers=num_rnn_layers, \n",
        "                          num_mlp_layers=num_mlp_layers,\n",
        "                          rnn_type=rnn_type,\n",
        "                          bidirectional=bidirectional,\n",
        "                          activation=activation,\n",
        "                          dropout_rate=dropout_rate,\n",
        "                          batch_norm=batch_norm,\n",
        "                          l2_reg=l2_reg,\n",
        "                          optimizer=optimizer,\n",
        "                          learning_rate=learning_rate,\n",
        "                        )\n",
        "\n",
        "    checkpointer = keras.callbacks.ModelCheckpoint(\n",
        "        filepath=os.path.join(\"models\", f\"weights_RNN_tune{count}.hdf5\"),\n",
        "        monitor=\"val_accuracy\",\n",
        "        verbose=0,\n",
        "        save_best_only=True)\n",
        "\n",
        "    mlp_history = model.fit(train_feats_matrix, train_label_matrix,\n",
        "                        validation_data=(valid_feats_matrix, valid_label_matrix),\n",
        "                        epochs=epoch, batch_size=batch_size, verbose=0,\n",
        "                        callbacks=[checkpointer])\n",
        "\n",
        "    model = keras.models.load_model(os.path.join(\"models\", f\"weights_RNN_tune{count}.hdf5\"))\n",
        "\n",
        "    print(f'count: {count}')\n",
        "    print(f'activation: {activation}')\n",
        "\n",
        "    # evaluation\n",
        "    # generate prediction and format\n",
        "    y_pred = model.predict(valid_feats_matrix)\n",
        "    y_pred = [np.argmax(row) for row in y_pred]\n",
        "    y_pred = np.array(y_pred)\n",
        "\n",
        "    # evaluate performance\n",
        "    acc = accuracy_score(valid_labels, y_pred)\n",
        "    f1 = f1_score(valid_labels, y_pred, average='macro')\n",
        "    print(f'accuracy: {acc:.4f}')\n",
        "    print(f'macro_f1: {f1:.4f}')\n",
        "\n",
        "    # save best model\n",
        "    if f1 > best_f1:\n",
        "        best_activation = activation\n",
        "        best_acc = acc\n",
        "        best_f1 = f1\n",
        "    \n",
        "    print('----------------------------------------------------------------------------')\n",
        "\n",
        "print('Best model:')\n",
        "print(f'activation: {best_activation}, accuracy: {best_acc}, macro_f1: {best_f1}')"
      ]
    },
    {
      "cell_type": "code",
      "execution_count": 23,
      "id": "346af949",
      "metadata": {
        "id": "346af949"
      },
      "outputs": [],
      "source": [
        "activation = best_activation"
      ]
    },
    {
      "cell_type": "markdown",
      "id": "dede6a89",
      "metadata": {
        "id": "dede6a89"
      },
      "source": [
        "### embedding_size"
      ]
    },
    {
      "cell_type": "code",
      "execution_count": 24,
      "id": "9b74b026",
      "metadata": {
        "colab": {
          "base_uri": "https://localhost:8080/"
        },
        "id": "9b74b026",
        "outputId": "56145b87-ea3b-41a3-be0b-c58ca1e8f7a4"
      },
      "outputs": [
        {
          "output_type": "stream",
          "name": "stdout",
          "text": [
            "count: 6\n",
            "embedding_size: 50\n",
            "accuracy: 0.7827\n",
            "macro_f1: 0.7826\n",
            "----------------------------------------------------------------------------\n",
            "count: 7\n",
            "embedding_size: 75\n",
            "accuracy: 0.8198\n",
            "macro_f1: 0.8187\n",
            "----------------------------------------------------------------------------\n",
            "count: 8\n",
            "embedding_size: 100\n",
            "accuracy: 0.8198\n",
            "macro_f1: 0.8197\n",
            "----------------------------------------------------------------------------\n",
            "count: 9\n",
            "embedding_size: 128\n",
            "accuracy: 0.8099\n",
            "macro_f1: 0.8106\n",
            "----------------------------------------------------------------------------\n",
            "count: 10\n",
            "embedding_size: 256\n",
            "accuracy: 0.8222\n",
            "macro_f1: 0.8221\n",
            "----------------------------------------------------------------------------\n",
            "Best model:\n",
            "embedding_size: 256, accuracy: 0.8222222222222222, macro_f1: 0.8221498262910064\n"
          ]
        }
      ],
      "source": [
        "embedding_size_list = [50, 75, 100, 128, 256]\n",
        "best_embedding_size = 0\n",
        "best_acc = 0\n",
        "best_f1 = 0\n",
        "\n",
        "for embedding_size in embedding_size_list:\n",
        "\n",
        "    count += 1\n",
        "\n",
        "    model = build_RNN(input_length=max_len, \n",
        "                          vocab_size=len(feats_dict), \n",
        "                          embedding_size=embedding_size,\n",
        "                          hidden_size=hidden_size, \n",
        "                          output_size=9,\n",
        "                          num_rnn_layers=num_rnn_layers, \n",
        "                          num_mlp_layers=num_mlp_layers,\n",
        "                          rnn_type=rnn_type,\n",
        "                          bidirectional=bidirectional,\n",
        "                          activation=activation,\n",
        "                          dropout_rate=dropout_rate,\n",
        "                          batch_norm=batch_norm,\n",
        "                          l2_reg=l2_reg,\n",
        "                          optimizer=optimizer,\n",
        "                          learning_rate=learning_rate,\n",
        "                        )\n",
        "\n",
        "    checkpointer = keras.callbacks.ModelCheckpoint(\n",
        "        filepath=os.path.join(\"models\", f\"weights_RNN_tune{count}.hdf5\"),\n",
        "        monitor=\"val_accuracy\",\n",
        "        verbose=0,\n",
        "        save_best_only=True)\n",
        "\n",
        "    mlp_history = model.fit(train_feats_matrix, train_label_matrix,\n",
        "                        validation_data=(valid_feats_matrix, valid_label_matrix),\n",
        "                        epochs=epoch, batch_size=batch_size, verbose=0,\n",
        "                        callbacks=[checkpointer])\n",
        "\n",
        "    model = keras.models.load_model(os.path.join(\"models\", f\"weights_RNN_tune{count}.hdf5\"))\n",
        "\n",
        "    print(f'count: {count}')\n",
        "    print(f'embedding_size: {embedding_size}')\n",
        "\n",
        "    # evaluation\n",
        "    # generate prediction and format\n",
        "    y_pred = model.predict(valid_feats_matrix)\n",
        "    y_pred = [np.argmax(row) for row in y_pred]\n",
        "    y_pred = np.array(y_pred)\n",
        "\n",
        "    # evaluate performance\n",
        "    acc = accuracy_score(valid_labels, y_pred)\n",
        "    f1 = f1_score(valid_labels, y_pred, average='macro')\n",
        "    print(f'accuracy: {acc:.4f}')\n",
        "    print(f'macro_f1: {f1:.4f}')\n",
        "\n",
        "    # save best model\n",
        "    if f1 > best_f1:\n",
        "        best_embedding_size = embedding_size\n",
        "        best_acc = acc\n",
        "        best_f1 = f1\n",
        "    \n",
        "    print('----------------------------------------------------------------------------')\n",
        "\n",
        "print('Best model:')\n",
        "print(f'embedding_size: {best_embedding_size}, accuracy: {best_acc}, macro_f1: {best_f1}')"
      ]
    },
    {
      "cell_type": "code",
      "execution_count": 25,
      "id": "9bdfdc26",
      "metadata": {
        "id": "9bdfdc26"
      },
      "outputs": [],
      "source": [
        "embedding_size = best_embedding_size"
      ]
    },
    {
      "cell_type": "markdown",
      "id": "9c091490",
      "metadata": {
        "id": "9c091490"
      },
      "source": [
        "### hidden_size"
      ]
    },
    {
      "cell_type": "code",
      "execution_count": 26,
      "id": "e1a2e439",
      "metadata": {
        "colab": {
          "base_uri": "https://localhost:8080/"
        },
        "id": "e1a2e439",
        "outputId": "96908454-a2b7-418b-f36c-443bdb129977"
      },
      "outputs": [
        {
          "output_type": "stream",
          "name": "stdout",
          "text": [
            "count: 11\n",
            "hidden_size: 50\n",
            "accuracy: 0.8272\n",
            "macro_f1: 0.8281\n",
            "----------------------------------------------------------------------------\n",
            "count: 12\n",
            "hidden_size: 75\n",
            "accuracy: 0.8074\n",
            "macro_f1: 0.8069\n",
            "----------------------------------------------------------------------------\n",
            "count: 13\n",
            "hidden_size: 100\n",
            "accuracy: 0.8099\n",
            "macro_f1: 0.8116\n",
            "----------------------------------------------------------------------------\n",
            "count: 14\n",
            "hidden_size: 128\n",
            "accuracy: 0.8222\n",
            "macro_f1: 0.8218\n",
            "----------------------------------------------------------------------------\n",
            "count: 15\n",
            "hidden_size: 256\n",
            "accuracy: 0.8074\n",
            "macro_f1: 0.8071\n",
            "----------------------------------------------------------------------------\n",
            "Best model:\n",
            "hidden_size: 50, accuracy: 0.8271604938271605, macro_f1: 0.8280861722790646\n"
          ]
        }
      ],
      "source": [
        "hidden_size_list = [50, 75, 100, 128, 256]\n",
        "best_hidden_size = 0\n",
        "best_acc = 0\n",
        "best_f1 = 0\n",
        "\n",
        "for hidden_size in hidden_size_list:\n",
        "\n",
        "    count += 1\n",
        "\n",
        "    model = build_RNN(input_length=max_len, \n",
        "                          vocab_size=len(feats_dict), \n",
        "                          embedding_size=embedding_size,\n",
        "                          hidden_size=hidden_size, \n",
        "                          output_size=9,\n",
        "                          num_rnn_layers=num_rnn_layers, \n",
        "                          num_mlp_layers=num_mlp_layers,\n",
        "                          rnn_type=rnn_type,\n",
        "                          bidirectional=bidirectional,\n",
        "                          activation=activation,\n",
        "                          dropout_rate=dropout_rate,\n",
        "                          batch_norm=batch_norm,\n",
        "                          l2_reg=l2_reg,\n",
        "                          optimizer=optimizer,\n",
        "                          learning_rate=learning_rate,\n",
        "                        )\n",
        "\n",
        "    checkpointer = keras.callbacks.ModelCheckpoint(\n",
        "        filepath=os.path.join(\"models\", f\"weights_RNN_tune{count}.hdf5\"),\n",
        "        monitor=\"val_accuracy\",\n",
        "        verbose=0,\n",
        "        save_best_only=True)\n",
        "\n",
        "    mlp_history = model.fit(train_feats_matrix, train_label_matrix,\n",
        "                        validation_data=(valid_feats_matrix, valid_label_matrix),\n",
        "                        epochs=epoch, batch_size=batch_size, verbose=0,\n",
        "                        callbacks=[checkpointer])\n",
        "\n",
        "    model = keras.models.load_model(os.path.join(\"models\", f\"weights_RNN_tune{count}.hdf5\"))\n",
        "\n",
        "    print(f'count: {count}')\n",
        "    print(f'hidden_size: {hidden_size}')\n",
        "\n",
        "    # evaluation\n",
        "    # generate prediction and format\n",
        "    y_pred = model.predict(valid_feats_matrix)\n",
        "    y_pred = [np.argmax(row) for row in y_pred]\n",
        "    y_pred = np.array(y_pred)\n",
        "\n",
        "    # evaluate performance\n",
        "    acc = accuracy_score(valid_labels, y_pred)\n",
        "    f1 = f1_score(valid_labels, y_pred, average='macro')\n",
        "    print(f'accuracy: {acc:.4f}')\n",
        "    print(f'macro_f1: {f1:.4f}')\n",
        "\n",
        "    # save best model\n",
        "    if f1 > best_f1:\n",
        "        best_hidden_size = hidden_size\n",
        "        best_acc = acc\n",
        "        best_f1 = f1\n",
        "    \n",
        "    print('----------------------------------------------------------------------------')\n",
        "\n",
        "print('Best model:')\n",
        "print(f'hidden_size: {best_hidden_size}, accuracy: {best_acc}, macro_f1: {best_f1}')"
      ]
    },
    {
      "cell_type": "code",
      "execution_count": 27,
      "id": "b5d13981",
      "metadata": {
        "id": "b5d13981"
      },
      "outputs": [],
      "source": [
        "hidden_size = best_hidden_size"
      ]
    },
    {
      "cell_type": "markdown",
      "id": "78b04d57",
      "metadata": {
        "id": "78b04d57"
      },
      "source": [
        "### num_rnn_layers"
      ]
    },
    {
      "cell_type": "code",
      "execution_count": 28,
      "id": "8533e918",
      "metadata": {
        "colab": {
          "base_uri": "https://localhost:8080/"
        },
        "id": "8533e918",
        "outputId": "83b07bbf-5216-4765-d2b0-a7db71a6d489"
      },
      "outputs": [
        {
          "output_type": "stream",
          "name": "stdout",
          "text": [
            "count: 16\n",
            "num_rnn_layers: 1\n",
            "accuracy: 0.8123\n",
            "macro_f1: 0.8117\n",
            "----------------------------------------------------------------------------\n",
            "count: 17\n",
            "num_rnn_layers: 2\n",
            "accuracy: 0.8272\n",
            "macro_f1: 0.8269\n",
            "----------------------------------------------------------------------------\n",
            "count: 18\n",
            "num_rnn_layers: 3\n",
            "accuracy: 0.7852\n",
            "macro_f1: 0.7863\n",
            "----------------------------------------------------------------------------\n",
            "count: 19\n",
            "num_rnn_layers: 4\n",
            "accuracy: 0.7975\n",
            "macro_f1: 0.7974\n",
            "----------------------------------------------------------------------------\n",
            "count: 20\n",
            "num_rnn_layers: 5\n",
            "accuracy: 0.8049\n",
            "macro_f1: 0.8047\n",
            "----------------------------------------------------------------------------\n",
            "Best model:\n",
            "num_rnn_layers: 2, accuracy: 0.8271604938271605, macro_f1: 0.8268787504917318\n"
          ]
        }
      ],
      "source": [
        "num_rnn_layers_list = [1, 2, 3, 4, 5]\n",
        "best_num_rnn_layers = 0\n",
        "best_acc = 0\n",
        "best_f1 = 0\n",
        "\n",
        "for num_rnn_layers in num_rnn_layers_list:\n",
        "\n",
        "    count += 1\n",
        "\n",
        "    model = build_RNN(input_length=max_len, \n",
        "                          vocab_size=len(feats_dict), \n",
        "                          embedding_size=embedding_size,\n",
        "                          hidden_size=hidden_size, \n",
        "                          output_size=9,\n",
        "                          num_rnn_layers=num_rnn_layers, \n",
        "                          num_mlp_layers=num_mlp_layers,\n",
        "                          rnn_type=rnn_type,\n",
        "                          bidirectional=bidirectional,\n",
        "                          activation=activation,\n",
        "                          dropout_rate=dropout_rate,\n",
        "                          batch_norm=batch_norm,\n",
        "                          l2_reg=l2_reg,\n",
        "                          optimizer=optimizer,\n",
        "                          learning_rate=learning_rate,\n",
        "                        )\n",
        "\n",
        "    checkpointer = keras.callbacks.ModelCheckpoint(\n",
        "        filepath=os.path.join(\"models\", f\"weights_RNN_tune{count}.hdf5\"),\n",
        "        monitor=\"val_accuracy\",\n",
        "        verbose=0,\n",
        "        save_best_only=True)\n",
        "\n",
        "    mlp_history = model.fit(train_feats_matrix, train_label_matrix,\n",
        "                        validation_data=(valid_feats_matrix, valid_label_matrix),\n",
        "                        epochs=epoch, batch_size=batch_size, verbose=0,\n",
        "                        callbacks=[checkpointer])\n",
        "\n",
        "    model = keras.models.load_model(os.path.join(\"models\", f\"weights_RNN_tune{count}.hdf5\"))\n",
        "\n",
        "    print(f'count: {count}')\n",
        "    print(f'num_rnn_layers: {num_rnn_layers}')\n",
        "\n",
        "    # evaluation\n",
        "    # generate prediction and format\n",
        "    y_pred = model.predict(valid_feats_matrix)\n",
        "    y_pred = [np.argmax(row) for row in y_pred]\n",
        "    y_pred = np.array(y_pred)\n",
        "\n",
        "    # evaluate performance\n",
        "    acc = accuracy_score(valid_labels, y_pred)\n",
        "    f1 = f1_score(valid_labels, y_pred, average='macro')\n",
        "    print(f'accuracy: {acc:.4f}')\n",
        "    print(f'macro_f1: {f1:.4f}')\n",
        "\n",
        "    # save best model\n",
        "    if f1 > best_f1:\n",
        "        best_num_rnn_layers = num_rnn_layers\n",
        "        best_acc = acc\n",
        "        best_f1 = f1\n",
        "    \n",
        "    print('----------------------------------------------------------------------------')\n",
        "\n",
        "print('Best model:')\n",
        "print(f'num_rnn_layers: {best_num_rnn_layers}, accuracy: {best_acc}, macro_f1: {best_f1}')"
      ]
    },
    {
      "cell_type": "code",
      "execution_count": 29,
      "id": "0dd3e868",
      "metadata": {
        "id": "0dd3e868"
      },
      "outputs": [],
      "source": [
        "num_rnn_layers = best_num_rnn_layers"
      ]
    },
    {
      "cell_type": "markdown",
      "id": "1592cf65",
      "metadata": {
        "id": "1592cf65"
      },
      "source": [
        "### num_mlp_layers"
      ]
    },
    {
      "cell_type": "code",
      "execution_count": 30,
      "id": "7506f58a",
      "metadata": {
        "colab": {
          "base_uri": "https://localhost:8080/"
        },
        "id": "7506f58a",
        "outputId": "ed08304a-b946-47ab-ee6b-a49448c6d456"
      },
      "outputs": [
        {
          "output_type": "stream",
          "name": "stdout",
          "text": [
            "count: 21\n",
            "num_mlp_layers: 1\n",
            "accuracy: 0.7778\n",
            "macro_f1: 0.7789\n",
            "----------------------------------------------------------------------------\n",
            "count: 22\n",
            "num_mlp_layers: 2\n",
            "accuracy: 0.8123\n",
            "macro_f1: 0.8120\n",
            "----------------------------------------------------------------------------\n",
            "count: 23\n",
            "num_mlp_layers: 3\n",
            "accuracy: 0.8198\n",
            "macro_f1: 0.8202\n",
            "----------------------------------------------------------------------------\n",
            "count: 24\n",
            "num_mlp_layers: 4\n",
            "accuracy: 0.8123\n",
            "macro_f1: 0.8116\n",
            "----------------------------------------------------------------------------\n",
            "count: 25\n",
            "num_mlp_layers: 5\n",
            "accuracy: 0.8074\n",
            "macro_f1: 0.8086\n",
            "----------------------------------------------------------------------------\n",
            "Best model:\n",
            "num_mlp_layers: 3, accuracy: 0.8197530864197531, macro_f1: 0.8201965931106879\n"
          ]
        }
      ],
      "source": [
        "num_mlp_layers_list = [1, 2, 3, 4, 5]\n",
        "best_num_mlp_layers = 0\n",
        "best_acc = 0\n",
        "best_f1 = 0\n",
        "\n",
        "for num_mlp_layers in num_mlp_layers_list:\n",
        "\n",
        "    count += 1\n",
        "\n",
        "    model = build_RNN(input_length=max_len, \n",
        "                          vocab_size=len(feats_dict), \n",
        "                          embedding_size=embedding_size,\n",
        "                          hidden_size=hidden_size, \n",
        "                          output_size=9,\n",
        "                          num_rnn_layers=num_rnn_layers, \n",
        "                          num_mlp_layers=num_mlp_layers,\n",
        "                          rnn_type=rnn_type,\n",
        "                          bidirectional=bidirectional,\n",
        "                          activation=activation,\n",
        "                          dropout_rate=dropout_rate,\n",
        "                          batch_norm=batch_norm,\n",
        "                          l2_reg=l2_reg,\n",
        "                          optimizer=optimizer,\n",
        "                          learning_rate=learning_rate,\n",
        "                        )\n",
        "\n",
        "    checkpointer = keras.callbacks.ModelCheckpoint(\n",
        "        filepath=os.path.join(\"models\", f\"weights_RNN_tune{count}.hdf5\"),\n",
        "        monitor=\"val_accuracy\",\n",
        "        verbose=0,\n",
        "        save_best_only=True)\n",
        "\n",
        "    mlp_history = model.fit(train_feats_matrix, train_label_matrix,\n",
        "                        validation_data=(valid_feats_matrix, valid_label_matrix),\n",
        "                        epochs=epoch, batch_size=batch_size, verbose=0,\n",
        "                        callbacks=[checkpointer])\n",
        "\n",
        "    model = keras.models.load_model(os.path.join(\"models\", f\"weights_RNN_tune{count}.hdf5\"))\n",
        "\n",
        "    print(f'count: {count}')\n",
        "    print(f'num_mlp_layers: {num_mlp_layers}')\n",
        "\n",
        "    # evaluation\n",
        "    # generate prediction and format\n",
        "    y_pred = model.predict(valid_feats_matrix)\n",
        "    y_pred = [np.argmax(row) for row in y_pred]\n",
        "    y_pred = np.array(y_pred)\n",
        "\n",
        "    # evaluate performance\n",
        "    acc = accuracy_score(valid_labels, y_pred)\n",
        "    f1 = f1_score(valid_labels, y_pred, average='macro')\n",
        "    print(f'accuracy: {acc:.4f}')\n",
        "    print(f'macro_f1: {f1:.4f}')\n",
        "\n",
        "    # save best model\n",
        "    if f1 > best_f1:\n",
        "        best_num_mlp_layers = num_mlp_layers\n",
        "        best_acc = acc\n",
        "        best_f1 = f1\n",
        "    \n",
        "    print('----------------------------------------------------------------------------')\n",
        "\n",
        "print('Best model:')\n",
        "print(f'num_mlp_layers: {best_num_mlp_layers}, accuracy: {best_acc}, macro_f1: {best_f1}')"
      ]
    },
    {
      "cell_type": "code",
      "execution_count": 31,
      "id": "dc770393",
      "metadata": {
        "id": "dc770393"
      },
      "outputs": [],
      "source": [
        "num_mlp_layers = best_num_mlp_layers"
      ]
    },
    {
      "cell_type": "markdown",
      "id": "7b303efe",
      "metadata": {
        "id": "7b303efe"
      },
      "source": [
        "### dropout_rate"
      ]
    },
    {
      "cell_type": "code",
      "execution_count": 32,
      "id": "e14a1e2b",
      "metadata": {
        "colab": {
          "base_uri": "https://localhost:8080/"
        },
        "id": "e14a1e2b",
        "outputId": "f5a2de22-943b-4edc-b667-480e7b6aa5cd"
      },
      "outputs": [
        {
          "output_type": "stream",
          "name": "stdout",
          "text": [
            "count: 26\n",
            "dropout_rate: 0.1\n",
            "accuracy: 0.8074\n",
            "macro_f1: 0.8053\n",
            "----------------------------------------------------------------------------\n",
            "count: 27\n",
            "dropout_rate: 0.3\n",
            "accuracy: 0.8049\n",
            "macro_f1: 0.8048\n",
            "----------------------------------------------------------------------------\n",
            "count: 28\n",
            "dropout_rate: 0.5\n",
            "accuracy: 0.8173\n",
            "macro_f1: 0.8165\n",
            "----------------------------------------------------------------------------\n",
            "count: 29\n",
            "dropout_rate: 0.6\n",
            "accuracy: 0.7951\n",
            "macro_f1: 0.7997\n",
            "----------------------------------------------------------------------------\n",
            "count: 30\n",
            "dropout_rate: 0.7\n",
            "accuracy: 0.7926\n",
            "macro_f1: 0.7916\n",
            "----------------------------------------------------------------------------\n",
            "Best model:\n",
            "dropout_rate: 0.5, accuracy: 0.817283950617284, macro_f1: 0.8164891443673582\n"
          ]
        }
      ],
      "source": [
        "dropout_rate_list = [0.1, 0.3, 0.5, 0.6, 0.7]\n",
        "best_dropout_rate = 0\n",
        "best_acc = 0\n",
        "best_f1 = 0\n",
        "\n",
        "for dropout_rate in dropout_rate_list:\n",
        "\n",
        "    count += 1\n",
        "\n",
        "    model = build_RNN(input_length=max_len, \n",
        "                          vocab_size=len(feats_dict), \n",
        "                          embedding_size=embedding_size,\n",
        "                          hidden_size=hidden_size, \n",
        "                          output_size=9,\n",
        "                          num_rnn_layers=num_rnn_layers, \n",
        "                          num_mlp_layers=num_mlp_layers,\n",
        "                          rnn_type=rnn_type,\n",
        "                          bidirectional=bidirectional,\n",
        "                          activation=activation,\n",
        "                          dropout_rate=dropout_rate,\n",
        "                          batch_norm=batch_norm,\n",
        "                          l2_reg=l2_reg,\n",
        "                          optimizer=optimizer,\n",
        "                          learning_rate=learning_rate,\n",
        "                        )\n",
        "\n",
        "    checkpointer = keras.callbacks.ModelCheckpoint(\n",
        "        filepath=os.path.join(\"models\", f\"weights_RNN_tune{count}.hdf5\"),\n",
        "        monitor=\"val_accuracy\",\n",
        "        verbose=0,\n",
        "        save_best_only=True)\n",
        "\n",
        "    mlp_history = model.fit(train_feats_matrix, train_label_matrix,\n",
        "                        validation_data=(valid_feats_matrix, valid_label_matrix),\n",
        "                        epochs=epoch, batch_size=batch_size, verbose=0,\n",
        "                        callbacks=[checkpointer])\n",
        "\n",
        "    model = keras.models.load_model(os.path.join(\"models\", f\"weights_RNN_tune{count}.hdf5\"))\n",
        "\n",
        "    print(f'count: {count}')\n",
        "    print(f'dropout_rate: {dropout_rate}')\n",
        "\n",
        "    # evaluation\n",
        "    # generate prediction and format\n",
        "    y_pred = model.predict(valid_feats_matrix)\n",
        "    y_pred = [np.argmax(row) for row in y_pred]\n",
        "    y_pred = np.array(y_pred)\n",
        "\n",
        "    # evaluate performance\n",
        "    acc = accuracy_score(valid_labels, y_pred)\n",
        "    f1 = f1_score(valid_labels, y_pred, average='macro')\n",
        "    print(f'accuracy: {acc:.4f}')\n",
        "    print(f'macro_f1: {f1:.4f}')\n",
        "\n",
        "    # save best model\n",
        "    if f1 > best_f1:\n",
        "        best_dropout_rate = dropout_rate\n",
        "        best_acc = acc\n",
        "        best_f1 = f1\n",
        "    \n",
        "    print('----------------------------------------------------------------------------')\n",
        "\n",
        "print('Best model:')\n",
        "print(f'dropout_rate: {best_dropout_rate}, accuracy: {best_acc}, macro_f1: {best_f1}')"
      ]
    },
    {
      "cell_type": "code",
      "execution_count": 33,
      "id": "ba777e48",
      "metadata": {
        "id": "ba777e48"
      },
      "outputs": [],
      "source": [
        "dropout_rate = best_dropout_rate"
      ]
    },
    {
      "cell_type": "markdown",
      "id": "5f464f5e",
      "metadata": {
        "id": "5f464f5e"
      },
      "source": [
        "### batch_norm"
      ]
    },
    {
      "cell_type": "code",
      "execution_count": 34,
      "id": "98773c3c",
      "metadata": {
        "colab": {
          "base_uri": "https://localhost:8080/"
        },
        "id": "98773c3c",
        "outputId": "af6f1207-eee2-46ac-8734-d35fdebeede4"
      },
      "outputs": [
        {
          "output_type": "stream",
          "name": "stdout",
          "text": [
            "count: 31\n",
            "batch_norm: True\n",
            "accuracy: 0.8074\n",
            "macro_f1: 0.8070\n",
            "----------------------------------------------------------------------------\n",
            "count: 32\n",
            "batch_norm: False\n",
            "accuracy: 0.7926\n",
            "macro_f1: 0.7898\n",
            "----------------------------------------------------------------------------\n",
            "Best model:\n",
            "batch_norm: True, accuracy: 0.8074074074074075, macro_f1: 0.8069876443462721\n"
          ]
        }
      ],
      "source": [
        "batch_norm_list = [True, False]\n",
        "best_batch_norm = False\n",
        "best_acc = 0\n",
        "best_f1 = 0\n",
        "\n",
        "for batch_norm in batch_norm_list:\n",
        "\n",
        "    count += 1\n",
        "\n",
        "    model = build_RNN(input_length=max_len, \n",
        "                          vocab_size=len(feats_dict), \n",
        "                          embedding_size=embedding_size,\n",
        "                          hidden_size=hidden_size, \n",
        "                          output_size=9,\n",
        "                          num_rnn_layers=num_rnn_layers, \n",
        "                          num_mlp_layers=num_mlp_layers,\n",
        "                          rnn_type=rnn_type,\n",
        "                          bidirectional=bidirectional,\n",
        "                          activation=activation,\n",
        "                          dropout_rate=dropout_rate,\n",
        "                          batch_norm=batch_norm,\n",
        "                          l2_reg=l2_reg,\n",
        "                          optimizer=optimizer,\n",
        "                          learning_rate=learning_rate,\n",
        "                        )\n",
        "\n",
        "    checkpointer = keras.callbacks.ModelCheckpoint(\n",
        "        filepath=os.path.join(\"models\", f\"weights_RNN_tune{count}.hdf5\"),\n",
        "        monitor=\"val_accuracy\",\n",
        "        verbose=0,\n",
        "        save_best_only=True)\n",
        "\n",
        "    mlp_history = model.fit(train_feats_matrix, train_label_matrix,\n",
        "                        validation_data=(valid_feats_matrix, valid_label_matrix),\n",
        "                        epochs=epoch, batch_size=batch_size, verbose=0,\n",
        "                        callbacks=[checkpointer])\n",
        "\n",
        "    model = keras.models.load_model(os.path.join(\"models\", f\"weights_RNN_tune{count}.hdf5\"))\n",
        "\n",
        "    print(f'count: {count}')\n",
        "    print(f'batch_norm: {batch_norm}')\n",
        "\n",
        "    # evaluation\n",
        "    # generate prediction and format\n",
        "    y_pred = model.predict(valid_feats_matrix)\n",
        "    y_pred = [np.argmax(row) for row in y_pred]\n",
        "    y_pred = np.array(y_pred)\n",
        "\n",
        "    # evaluate performance\n",
        "    acc = accuracy_score(valid_labels, y_pred)\n",
        "    f1 = f1_score(valid_labels, y_pred, average='macro')\n",
        "    print(f'accuracy: {acc:.4f}')\n",
        "    print(f'macro_f1: {f1:.4f}')\n",
        "\n",
        "    # save best model\n",
        "    if f1 > best_f1:\n",
        "        best_batch_norm = batch_norm\n",
        "        best_acc = acc\n",
        "        best_f1 = f1\n",
        "    \n",
        "    print('----------------------------------------------------------------------------')\n",
        "\n",
        "print('Best model:')\n",
        "print(f'batch_norm: {best_batch_norm}, accuracy: {best_acc}, macro_f1: {best_f1}')"
      ]
    },
    {
      "cell_type": "code",
      "execution_count": 35,
      "id": "6df6104a",
      "metadata": {
        "id": "6df6104a"
      },
      "outputs": [],
      "source": [
        "batch_norm = best_batch_norm"
      ]
    },
    {
      "cell_type": "markdown",
      "id": "58c91175",
      "metadata": {
        "id": "58c91175"
      },
      "source": [
        "### l2_reg"
      ]
    },
    {
      "cell_type": "code",
      "execution_count": 36,
      "id": "54f3758c",
      "metadata": {
        "colab": {
          "base_uri": "https://localhost:8080/"
        },
        "id": "54f3758c",
        "outputId": "d4325c88-8bb7-4bc3-d54b-9477b744f63d"
      },
      "outputs": [
        {
          "output_type": "stream",
          "name": "stdout",
          "text": [
            "count: 33\n",
            "l2_reg: 0.001\n",
            "accuracy: 0.8272\n",
            "macro_f1: 0.8271\n",
            "----------------------------------------------------------------------------\n",
            "count: 34\n",
            "l2_reg: 0.005\n",
            "accuracy: 0.8420\n",
            "macro_f1: 0.8419\n",
            "----------------------------------------------------------------------------\n",
            "count: 35\n",
            "l2_reg: 0.01\n",
            "accuracy: 0.8000\n",
            "macro_f1: 0.7984\n",
            "----------------------------------------------------------------------------\n",
            "count: 36\n",
            "l2_reg: 0.1\n",
            "accuracy: 0.8173\n",
            "macro_f1: 0.8161\n",
            "----------------------------------------------------------------------------\n",
            "Best model:\n",
            "l2_reg: 0.005, accuracy: 0.8419753086419753, macro_f1: 0.8418516518737417\n"
          ]
        }
      ],
      "source": [
        "l2_reg_list = [0.001, 0.005, 0.01, 0.1]\n",
        "best_l2_reg = 0\n",
        "best_acc = 0\n",
        "best_f1 = 0\n",
        "\n",
        "for l2_reg in l2_reg_list:\n",
        "\n",
        "    count += 1\n",
        "\n",
        "    model = build_RNN(input_length=max_len, \n",
        "                          vocab_size=len(feats_dict), \n",
        "                          embedding_size=embedding_size,\n",
        "                          hidden_size=hidden_size, \n",
        "                          output_size=9,\n",
        "                          num_rnn_layers=num_rnn_layers, \n",
        "                          num_mlp_layers=num_mlp_layers,\n",
        "                          rnn_type=rnn_type,\n",
        "                          bidirectional=bidirectional,\n",
        "                          activation=activation,\n",
        "                          dropout_rate=dropout_rate,\n",
        "                          batch_norm=batch_norm,\n",
        "                          l2_reg=l2_reg,\n",
        "                          optimizer=optimizer,\n",
        "                          learning_rate=learning_rate,\n",
        "                        )\n",
        "\n",
        "    checkpointer = keras.callbacks.ModelCheckpoint(\n",
        "        filepath=os.path.join(\"models\", f\"weights_RNN_tune{count}.hdf5\"),\n",
        "        monitor=\"val_accuracy\",\n",
        "        verbose=0,\n",
        "        save_best_only=True)\n",
        "\n",
        "    mlp_history = model.fit(train_feats_matrix, train_label_matrix,\n",
        "                        validation_data=(valid_feats_matrix, valid_label_matrix),\n",
        "                        epochs=epoch, batch_size=batch_size, verbose=0,\n",
        "                        callbacks=[checkpointer])\n",
        "\n",
        "    model = keras.models.load_model(os.path.join(\"models\", f\"weights_RNN_tune{count}.hdf5\"))\n",
        "\n",
        "    print(f'count: {count}')\n",
        "    print(f'l2_reg: {l2_reg}')\n",
        "\n",
        "    # evaluation\n",
        "    # generate prediction and format\n",
        "    y_pred = model.predict(valid_feats_matrix)\n",
        "    y_pred = [np.argmax(row) for row in y_pred]\n",
        "    y_pred = np.array(y_pred)\n",
        "\n",
        "    # evaluate performance\n",
        "    acc = accuracy_score(valid_labels, y_pred)\n",
        "    f1 = f1_score(valid_labels, y_pred, average='macro')\n",
        "    print(f'accuracy: {acc:.4f}')\n",
        "    print(f'macro_f1: {f1:.4f}')\n",
        "\n",
        "    # save best model\n",
        "    if f1 > best_f1:\n",
        "        best_l2_reg = l2_reg\n",
        "        best_acc = acc\n",
        "        best_f1 = f1\n",
        "    \n",
        "    print('----------------------------------------------------------------------------')\n",
        "\n",
        "print('Best model:')\n",
        "print(f'l2_reg: {best_l2_reg}, accuracy: {best_acc}, macro_f1: {best_f1}')"
      ]
    },
    {
      "cell_type": "code",
      "execution_count": 37,
      "id": "5333252d",
      "metadata": {
        "id": "5333252d"
      },
      "outputs": [],
      "source": [
        "l2_reg = best_l2_reg"
      ]
    },
    {
      "cell_type": "markdown",
      "id": "6904d64d",
      "metadata": {
        "id": "6904d64d"
      },
      "source": [
        "### learning_rate"
      ]
    },
    {
      "cell_type": "code",
      "execution_count": 38,
      "id": "9a8893a0",
      "metadata": {
        "colab": {
          "base_uri": "https://localhost:8080/"
        },
        "id": "9a8893a0",
        "outputId": "3c64e5ac-725e-4c01-e4e5-6298a97ee71e"
      },
      "outputs": [
        {
          "output_type": "stream",
          "name": "stdout",
          "text": [
            "count: 37\n",
            "learning_rate: 0.0001\n",
            "accuracy: 0.8123\n",
            "macro_f1: 0.8118\n",
            "----------------------------------------------------------------------------\n",
            "count: 38\n",
            "learning_rate: 0.001\n",
            "accuracy: 0.8198\n",
            "macro_f1: 0.8192\n",
            "----------------------------------------------------------------------------\n",
            "count: 39\n",
            "learning_rate: 0.01\n",
            "accuracy: 0.8025\n",
            "macro_f1: 0.8009\n",
            "----------------------------------------------------------------------------\n",
            "count: 40\n",
            "learning_rate: 0.1\n",
            "accuracy: 0.8222\n",
            "macro_f1: 0.8229\n",
            "----------------------------------------------------------------------------\n",
            "Best model:\n",
            "learning_rate: 0.1, accuracy: 0.8222222222222222, macro_f1: 0.8228964264789124\n"
          ]
        }
      ],
      "source": [
        "learning_rate_list = [0.0001, 0.001, 0.01, 0.1]\n",
        "best_learning_rate = 0\n",
        "best_acc = 0\n",
        "best_f1 = 0\n",
        "\n",
        "for learning_rate in learning_rate_list:\n",
        "\n",
        "    count += 1\n",
        "\n",
        "    model = build_RNN(input_length=max_len, \n",
        "                          vocab_size=len(feats_dict), \n",
        "                          embedding_size=embedding_size,\n",
        "                          hidden_size=hidden_size, \n",
        "                          output_size=9,\n",
        "                          num_rnn_layers=num_rnn_layers, \n",
        "                          num_mlp_layers=num_mlp_layers,\n",
        "                          rnn_type=rnn_type,\n",
        "                          bidirectional=bidirectional,\n",
        "                          activation=activation,\n",
        "                          dropout_rate=dropout_rate,\n",
        "                          batch_norm=batch_norm,\n",
        "                          l2_reg=l2_reg,\n",
        "                          optimizer=optimizer,\n",
        "                          learning_rate=learning_rate,\n",
        "                        )\n",
        "\n",
        "    checkpointer = keras.callbacks.ModelCheckpoint(\n",
        "        filepath=os.path.join(\"models\", f\"weights_RNN_tune{count}.hdf5\"),\n",
        "        monitor=\"val_accuracy\",\n",
        "        verbose=0,\n",
        "        save_best_only=True)\n",
        "\n",
        "    mlp_history = model.fit(train_feats_matrix, train_label_matrix,\n",
        "                        validation_data=(valid_feats_matrix, valid_label_matrix),\n",
        "                        epochs=epoch, batch_size=batch_size, verbose=0,\n",
        "                        callbacks=[checkpointer])\n",
        "\n",
        "    model = keras.models.load_model(os.path.join(\"models\", f\"weights_RNN_tune{count}.hdf5\"))\n",
        "\n",
        "    print(f'count: {count}')\n",
        "    print(f'learning_rate: {learning_rate}')\n",
        "\n",
        "    # evaluation\n",
        "    # generate prediction and format\n",
        "    y_pred = model.predict(valid_feats_matrix)\n",
        "    y_pred = [np.argmax(row) for row in y_pred]\n",
        "    y_pred = np.array(y_pred)\n",
        "\n",
        "    # evaluate performance\n",
        "    acc = accuracy_score(valid_labels, y_pred)\n",
        "    f1 = f1_score(valid_labels, y_pred, average='macro')\n",
        "    print(f'accuracy: {acc:.4f}')\n",
        "    print(f'macro_f1: {f1:.4f}')\n",
        "\n",
        "    # save best model\n",
        "    if f1 > best_f1:\n",
        "        best_learning_rate = learning_rate\n",
        "        best_acc = acc\n",
        "        best_f1 = f1\n",
        "    \n",
        "    print('----------------------------------------------------------------------------')\n",
        "\n",
        "print('Best model:')\n",
        "print(f'learning_rate: {best_learning_rate}, accuracy: {best_acc}, macro_f1: {best_f1}')"
      ]
    },
    {
      "cell_type": "code",
      "execution_count": 39,
      "id": "c17054f7",
      "metadata": {
        "id": "c17054f7"
      },
      "outputs": [],
      "source": [
        "learning_rate = best_learning_rate"
      ]
    },
    {
      "cell_type": "markdown",
      "id": "31a48114",
      "metadata": {
        "id": "31a48114"
      },
      "source": [
        "## Final Bi-Directional LSTM Model"
      ]
    },
    {
      "cell_type": "code",
      "execution_count": 53,
      "id": "41a2d96e",
      "metadata": {
        "colab": {
          "base_uri": "https://localhost:8080/"
        },
        "id": "41a2d96e",
        "outputId": "9b6edc88-a8e7-4a96-a5ca-8caff48a652a"
      },
      "outputs": [
        {
          "output_type": "stream",
          "name": "stdout",
          "text": [
            "Epoch 1/30\n",
            "37/37 [==============================] - 9s 69ms/step - loss: 3.2399 - accuracy: 0.1630 - precision_47: 0.2000 - recall_47: 0.0033 - val_loss: 2.9137 - val_accuracy: 0.3901 - val_precision_47: 0.0000e+00 - val_recall_47: 0.0000e+00\n",
            "Epoch 2/30\n",
            "37/37 [==============================] - 1s 26ms/step - loss: 2.2163 - accuracy: 0.5520 - precision_47: 0.8249 - recall_47: 0.2598 - val_loss: 2.2209 - val_accuracy: 0.6494 - val_precision_47: 0.9800 - val_recall_47: 0.1210\n",
            "Epoch 3/30\n",
            "37/37 [==============================] - 1s 26ms/step - loss: 1.4471 - accuracy: 0.8239 - precision_47: 0.9046 - recall_47: 0.7075 - val_loss: 1.6911 - val_accuracy: 0.8099 - val_precision_47: 0.9417 - val_recall_47: 0.4790\n",
            "Epoch 4/30\n",
            "37/37 [==============================] - 1s 26ms/step - loss: 1.0942 - accuracy: 0.9064 - precision_47: 0.9420 - recall_47: 0.8516 - val_loss: 1.4463 - val_accuracy: 0.8148 - val_precision_47: 0.9314 - val_recall_47: 0.6370\n",
            "Epoch 5/30\n",
            "37/37 [==============================] - 1s 23ms/step - loss: 0.8820 - accuracy: 0.9454 - precision_47: 0.9632 - recall_47: 0.9188 - val_loss: 1.3404 - val_accuracy: 0.7877 - val_precision_47: 0.8899 - val_recall_47: 0.6988\n",
            "Epoch 6/30\n",
            "37/37 [==============================] - 1s 25ms/step - loss: 0.7254 - accuracy: 0.9690 - precision_47: 0.9800 - recall_47: 0.9550 - val_loss: 1.2269 - val_accuracy: 0.8173 - val_precision_47: 0.8812 - val_recall_47: 0.7506\n",
            "Epoch 7/30\n",
            "37/37 [==============================] - 1s 24ms/step - loss: 0.6167 - accuracy: 0.9794 - precision_47: 0.9828 - recall_47: 0.9706 - val_loss: 1.1934 - val_accuracy: 0.8000 - val_precision_47: 0.8493 - val_recall_47: 0.7654\n",
            "Epoch 8/30\n",
            "37/37 [==============================] - 1s 23ms/step - loss: 0.5235 - accuracy: 0.9846 - precision_47: 0.9897 - recall_47: 0.9794 - val_loss: 1.1303 - val_accuracy: 0.7852 - val_precision_47: 0.8333 - val_recall_47: 0.7654\n",
            "Epoch 9/30\n",
            "37/37 [==============================] - 1s 23ms/step - loss: 0.4530 - accuracy: 0.9874 - precision_47: 0.9909 - recall_47: 0.9824 - val_loss: 1.1753 - val_accuracy: 0.7877 - val_precision_47: 0.8347 - val_recall_47: 0.7605\n",
            "Epoch 10/30\n",
            "37/37 [==============================] - 1s 23ms/step - loss: 0.3771 - accuracy: 0.9909 - precision_47: 0.9942 - recall_47: 0.9898 - val_loss: 1.1531 - val_accuracy: 0.8025 - val_precision_47: 0.8211 - val_recall_47: 0.7704\n",
            "Epoch 11/30\n",
            "37/37 [==============================] - 1s 23ms/step - loss: 0.3230 - accuracy: 0.9937 - precision_47: 0.9953 - recall_47: 0.9909 - val_loss: 1.2161 - val_accuracy: 0.7778 - val_precision_47: 0.8031 - val_recall_47: 0.7556\n",
            "Epoch 12/30\n",
            "37/37 [==============================] - 1s 24ms/step - loss: 0.2722 - accuracy: 0.9962 - precision_47: 0.9970 - recall_47: 0.9951 - val_loss: 1.1889 - val_accuracy: 0.7753 - val_precision_47: 0.8010 - val_recall_47: 0.7556\n",
            "Epoch 13/30\n",
            "37/37 [==============================] - 1s 24ms/step - loss: 0.2365 - accuracy: 0.9951 - precision_47: 0.9959 - recall_47: 0.9940 - val_loss: 1.1278 - val_accuracy: 0.7704 - val_precision_47: 0.8079 - val_recall_47: 0.7580\n",
            "Epoch 14/30\n",
            "37/37 [==============================] - 1s 24ms/step - loss: 0.1929 - accuracy: 0.9962 - precision_47: 0.9964 - recall_47: 0.9959 - val_loss: 1.1251 - val_accuracy: 0.7926 - val_precision_47: 0.8175 - val_recall_47: 0.7852\n",
            "Epoch 15/30\n",
            "37/37 [==============================] - 1s 23ms/step - loss: 0.1720 - accuracy: 0.9967 - precision_47: 0.9967 - recall_47: 0.9964 - val_loss: 1.1872 - val_accuracy: 0.7531 - val_precision_47: 0.8005 - val_recall_47: 0.7432\n",
            "Epoch 16/30\n",
            "37/37 [==============================] - 1s 23ms/step - loss: 0.1476 - accuracy: 0.9948 - precision_47: 0.9970 - recall_47: 0.9940 - val_loss: 1.1092 - val_accuracy: 0.7778 - val_precision_47: 0.8031 - val_recall_47: 0.7654\n",
            "Epoch 17/30\n",
            "37/37 [==============================] - 1s 23ms/step - loss: 0.1279 - accuracy: 0.9953 - precision_47: 0.9964 - recall_47: 0.9945 - val_loss: 1.1608 - val_accuracy: 0.7481 - val_precision_47: 0.7818 - val_recall_47: 0.7432\n",
            "Epoch 18/30\n",
            "37/37 [==============================] - 1s 23ms/step - loss: 0.1451 - accuracy: 0.9841 - precision_47: 0.9854 - recall_47: 0.9800 - val_loss: 1.1496 - val_accuracy: 0.7877 - val_precision_47: 0.8067 - val_recall_47: 0.7728\n",
            "Epoch 19/30\n",
            "37/37 [==============================] - 1s 23ms/step - loss: 0.1262 - accuracy: 0.9874 - precision_47: 0.9890 - recall_47: 0.9871 - val_loss: 1.1470 - val_accuracy: 0.7704 - val_precision_47: 0.7903 - val_recall_47: 0.7630\n",
            "Epoch 20/30\n",
            "37/37 [==============================] - 1s 23ms/step - loss: 0.1053 - accuracy: 0.9907 - precision_47: 0.9926 - recall_47: 0.9879 - val_loss: 1.1163 - val_accuracy: 0.7951 - val_precision_47: 0.8222 - val_recall_47: 0.7877\n",
            "Epoch 21/30\n",
            "37/37 [==============================] - 1s 24ms/step - loss: 0.0952 - accuracy: 0.9904 - precision_47: 0.9915 - recall_47: 0.9890 - val_loss: 1.2084 - val_accuracy: 0.7852 - val_precision_47: 0.7895 - val_recall_47: 0.7778\n",
            "Epoch 22/30\n",
            "37/37 [==============================] - 1s 23ms/step - loss: 0.0848 - accuracy: 0.9920 - precision_47: 0.9929 - recall_47: 0.9912 - val_loss: 1.1559 - val_accuracy: 0.8000 - val_precision_47: 0.8122 - val_recall_47: 0.7901\n",
            "Epoch 23/30\n",
            "37/37 [==============================] - 1s 23ms/step - loss: 0.0750 - accuracy: 0.9904 - precision_47: 0.9909 - recall_47: 0.9890 - val_loss: 1.1340 - val_accuracy: 0.8025 - val_precision_47: 0.8131 - val_recall_47: 0.7951\n",
            "Epoch 24/30\n",
            "37/37 [==============================] - 1s 24ms/step - loss: 0.0650 - accuracy: 0.9926 - precision_47: 0.9939 - recall_47: 0.9915 - val_loss: 1.1165 - val_accuracy: 0.7901 - val_precision_47: 0.8051 - val_recall_47: 0.7852\n",
            "Epoch 25/30\n",
            "37/37 [==============================] - 1s 23ms/step - loss: 0.0467 - accuracy: 0.9973 - precision_47: 0.9984 - recall_47: 0.9970 - val_loss: 1.2175 - val_accuracy: 0.7975 - val_precision_47: 0.8147 - val_recall_47: 0.7926\n",
            "Epoch 26/30\n",
            "37/37 [==============================] - 1s 24ms/step - loss: 0.0493 - accuracy: 0.9948 - precision_47: 0.9948 - recall_47: 0.9945 - val_loss: 1.2698 - val_accuracy: 0.7926 - val_precision_47: 0.8065 - val_recall_47: 0.7926\n",
            "Epoch 27/30\n",
            "37/37 [==============================] - 1s 24ms/step - loss: 0.0565 - accuracy: 0.9934 - precision_47: 0.9940 - recall_47: 0.9934 - val_loss: 1.2143 - val_accuracy: 0.7951 - val_precision_47: 0.8025 - val_recall_47: 0.7926\n",
            "Epoch 28/30\n",
            "37/37 [==============================] - 1s 24ms/step - loss: 0.0434 - accuracy: 0.9945 - precision_47: 0.9945 - recall_47: 0.9940 - val_loss: 1.2665 - val_accuracy: 0.8025 - val_precision_47: 0.8127 - val_recall_47: 0.7926\n",
            "Epoch 29/30\n",
            "37/37 [==============================] - 1s 24ms/step - loss: 0.0433 - accuracy: 0.9942 - precision_47: 0.9942 - recall_47: 0.9934 - val_loss: 1.3676 - val_accuracy: 0.7753 - val_precision_47: 0.7908 - val_recall_47: 0.7654\n",
            "Epoch 30/30\n",
            "37/37 [==============================] - 1s 23ms/step - loss: 0.0480 - accuracy: 0.9915 - precision_47: 0.9926 - recall_47: 0.9909 - val_loss: 1.3340 - val_accuracy: 0.7951 - val_precision_47: 0.8060 - val_recall_47: 0.7901\n",
            "count: 40\n",
            "learning_rate: 0.1\n",
            "accuracy: 0.8173\n",
            "macro_f1: 0.8155\n"
          ]
        }
      ],
      "source": [
        "model = build_RNN(input_length=max_len, \n",
        "                      vocab_size=len(feats_dict), \n",
        "                      embedding_size=embedding_size,\n",
        "                      hidden_size=hidden_size, \n",
        "                      output_size=9,\n",
        "                      num_rnn_layers=num_rnn_layers, \n",
        "                      num_mlp_layers=num_mlp_layers,\n",
        "                      rnn_type=rnn_type,\n",
        "                      bidirectional=bidirectional,\n",
        "                      activation=activation,\n",
        "                      dropout_rate=dropout_rate,\n",
        "                      batch_norm=batch_norm,\n",
        "                      l2_reg=l2_reg,\n",
        "                      optimizer=optimizer,\n",
        "                      learning_rate=learning_rate,\n",
        "                    )\n",
        "\n",
        "checkpointer = keras.callbacks.ModelCheckpoint(\n",
        "    filepath=os.path.join(\"models\", f\"weights_RNN_final.hdf5\"),\n",
        "    monitor=\"val_accuracy\",\n",
        "    verbose=0,\n",
        "    save_best_only=True)\n",
        "\n",
        "mlp_history = model.fit(train_feats_matrix, train_label_matrix,\n",
        "                    validation_data=(valid_feats_matrix, valid_label_matrix),\n",
        "                    epochs=epoch, batch_size=batch_size, verbose=1,\n",
        "                    callbacks=[checkpointer])\n",
        "\n",
        "model = keras.models.load_model(os.path.join(\"models\", f\"weights_RNN_final.hdf5\"))\n",
        "\n",
        "print(f'count: {count}')\n",
        "print(f'learning_rate: {learning_rate}')\n",
        "\n",
        "# evaluation\n",
        "# generate prediction and format\n",
        "y_pred = model.predict(valid_feats_matrix)\n",
        "y_pred = [np.argmax(row) for row in y_pred]\n",
        "y_pred = np.array(y_pred)\n",
        "\n",
        "# evaluate performance\n",
        "acc = accuracy_score(valid_labels, y_pred)\n",
        "f1 = f1_score(valid_labels, y_pred, average='macro')\n",
        "print(f'accuracy: {acc:.4f}')\n",
        "print(f'macro_f1: {f1:.4f}')"
      ]
    },
    {
      "cell_type": "markdown",
      "id": "be611d51",
      "metadata": {
        "id": "be611d51"
      },
      "source": [
        "## Final Model Test Prediction"
      ]
    },
    {
      "cell_type": "code",
      "execution_count": 54,
      "id": "c481ea3e",
      "metadata": {
        "colab": {
          "base_uri": "https://localhost:8080/"
        },
        "id": "c481ea3e",
        "outputId": "683fa5a3-569b-42f7-f9f7-137e59308114"
      },
      "outputs": [
        {
          "output_type": "stream",
          "name": "stdout",
          "text": [
            "test accuracy: 0.8311\n",
            "test macro_f1: 0.8292\n",
            "              precision    recall  f1-score   support\n",
            "\n",
            "          CC       0.90      0.88      0.89        50\n",
            "          NC       0.85      0.92      0.88        50\n",
            "          PW       0.80      0.86      0.83        50\n",
            "          HC       0.79      0.62      0.70        50\n",
            "          PL       0.83      0.78      0.80        50\n",
            "          CR       0.82      0.82      0.82        50\n",
            "          CG       0.85      0.82      0.84        50\n",
            "          BE       0.77      0.88      0.82        50\n",
            "           N       0.87      0.90      0.88        50\n",
            "\n",
            "    accuracy                           0.83       450\n",
            "   macro avg       0.83      0.83      0.83       450\n",
            "weighted avg       0.83      0.83      0.83       450\n",
            "\n"
          ]
        }
      ],
      "source": [
        "# generate prediction and format\n",
        "y_pred = model.predict(test_feats_matrix)\n",
        "y_pred = [np.argmax(row) for row in y_pred]\n",
        "y_pred = np.array(y_pred)\n",
        "\n",
        "# evaluate performance\n",
        "acc = accuracy_score(test_labels, y_pred)\n",
        "f1 = f1_score(test_labels, y_pred, average='macro')\n",
        "print(f'test accuracy: {acc:.4f}')\n",
        "print(f'test macro_f1: {f1:.4f}')\n",
        "print(classification_report(test_labels, y_pred,target_names=labels))"
      ]
    },
    {
      "cell_type": "code",
      "source": [
        "# plot confusion matrix\n",
        "cm = confusion_matrix(test_labels, y_pred , normalize='pred')\n",
        "cmp = ConfusionMatrixDisplay(confusion_matrix=cm, display_labels=labels)\n",
        "fig, ax = plt.subplots(figsize=(10,10))\n",
        "cmp.plot(ax=ax)"
      ],
      "metadata": {
        "colab": {
          "base_uri": "https://localhost:8080/",
          "height": 597
        },
        "id": "lc5vlinRMTft",
        "outputId": "42c91a27-bc8e-4b74-9b18-96a0f10ba599"
      },
      "id": "lc5vlinRMTft",
      "execution_count": 55,
      "outputs": [
        {
          "output_type": "execute_result",
          "data": {
            "text/plain": [
              "<sklearn.metrics._plot.confusion_matrix.ConfusionMatrixDisplay at 0x7f880095fb90>"
            ]
          },
          "metadata": {},
          "execution_count": 55
        },
        {
          "output_type": "display_data",
          "data": {
            "text/plain": [
              "<Figure size 720x720 with 2 Axes>"
            ],
            "image/png": "[encoded data removed]"
          },
          "metadata": {
            "needs_background": "light"
          }
        }
      ]
    },
    {
      "cell_type": "code",
      "source": [
        ""
      ],
      "metadata": {
        "id": "80Agz3ECMU6y"
      },
      "id": "80Agz3ECMU6y",
      "execution_count": null,
      "outputs": []
    }
  ],
  "metadata": {
    "kernelspec": {
      "display_name": "Python 3 (ipykernel)",
      "language": "python",
      "name": "python3"
    },
    "language_info": {
      "codemirror_mode": {
        "name": "ipython",
        "version": 3
      },
      "file_extension": ".py",
      "mimetype": "text/x-python",
      "name": "python",
      "nbconvert_exporter": "python",
      "pygments_lexer": "ipython3",
      "version": "3.8.13"
    },
    "colab": {
      "name": "UROP_bi_lstm.ipynb",
      "provenance": [],
      "collapsed_sections": []
    },
    "accelerator": "GPU",
    "gpuClass": "standard"
  },
  "nbformat": 4,
  "nbformat_minor": 5
}