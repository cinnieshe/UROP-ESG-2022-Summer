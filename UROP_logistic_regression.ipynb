{
 "cells": [
  {
   "cell_type": "markdown",
   "id": "c725de7f",
   "metadata": {},
   "source": [
    "# Fine-Tune Logistic Regression"
   ]
  },
  {
   "cell_type": "markdown",
   "id": "2c14535e",
   "metadata": {},
   "source": [
    "## Load Libraries"
   ]
  },
  {
   "cell_type": "code",
   "execution_count": 1,
   "id": "0aa19a47",
   "metadata": {},
   "outputs": [],
   "source": [
    "import pandas as pd\n",
    "from nltk.corpus import stopwords\n",
    "import re\n",
    "from sklearn.model_selection import train_test_split\n",
    "\n",
    "import matplotlib.pyplot as plt\n",
    "from sklearn.linear_model import LogisticRegression\n",
    "from sklearn.feature_extraction.text import CountVectorizer\n",
    "from sklearn.pipeline import Pipeline\n",
    "from sklearn.feature_extraction.text import TfidfTransformer\n",
    "from sklearn.metrics import classification_report, f1_score, accuracy_score, ConfusionMatrixDisplay, confusion_matrix"
   ]
  },
  {
   "cell_type": "markdown",
   "id": "4a5c07e4",
   "metadata": {},
   "source": [
    "## Utils"
   ]
  },
  {
   "cell_type": "code",
   "execution_count": 2,
   "id": "7a25c57f",
   "metadata": {},
   "outputs": [],
   "source": [
    "def load_data(filename):\n",
    "    \"\"\"\n",
    "    Input: string filename\n",
    "    Output: a pandas dataframe for the whole dataset after droping missing values\n",
    "    Support google colab or local environments\n",
    "    \"\"\"\n",
    "    try:\n",
    "        # local environment\n",
    "        df = pd.read_csv(filename)\n",
    "        df = df.dropna(subset=['sentence', 'label']) ## drop missing values\n",
    "        return df\n",
    "    except:\n",
    "        # google colab environment\n",
    "        from google.colab import drive\n",
    "        drive.mount('/content/drive')\n",
    "        \n",
    "        df = pd.read_csv('/content/drive/MyDrive/' + filename)\n",
    "        df = df.dropna(subset=['sentence', 'label']) ## drop missing values\n",
    "        return df"
   ]
  },
  {
   "cell_type": "code",
   "execution_count": 3,
   "id": "d220c932",
   "metadata": {},
   "outputs": [],
   "source": [
    "def split_data(df):\n",
    "    \"\"\"\n",
    "    Input: pandas dataframe\n",
    "    Output: training dataframe (81%), validation dataframe (9%), test dataframe (10%)\n",
    "    \"\"\"\n",
    "    df_train, df_val = train_test_split(df, stratify=df['label'],test_size=0.1, random_state=42)\n",
    "    \n",
    "    return df_train, df_val"
   ]
  },
  {
   "cell_type": "code",
   "execution_count": 4,
   "id": "f4a25c2b",
   "metadata": {},
   "outputs": [],
   "source": [
    "REPLACE_BY_SPACE_RE = re.compile('[/(){}\\[\\]\\|@,;]')\n",
    "BAD_SYMBOLS_RE = re.compile('[^0-9a-z #+_]')\n",
    "STOPWORDS = set(stopwords.words('english'))\n",
    "\n",
    "def clean_text(text):\n",
    "    \"\"\"\n",
    "        Input: string text\n",
    "        Output: string cleaned text\n",
    "    \"\"\"\n",
    "    text = text.lower() # lowercase text\n",
    "    text = REPLACE_BY_SPACE_RE.sub(' ', text) # replace REPLACE_BY_SPACE_RE symbols by space in text\n",
    "    text = BAD_SYMBOLS_RE.sub('', text) # delete symbols which are in BAD_SYMBOLS_RE from text\n",
    "    text = ' '.join(word for word in text.split() if word not in STOPWORDS) # delete stopwords from text\n",
    "    return text"
   ]
  },
  {
   "cell_type": "markdown",
   "id": "dc673aaf",
   "metadata": {},
   "source": [
    "## Load data"
   ]
  },
  {
   "cell_type": "code",
   "execution_count": 5,
   "id": "42b5f130",
   "metadata": {},
   "outputs": [],
   "source": [
    "FILENAME = 'final_dataset_formatted.csv'\n",
    "TEST_FILENAME = 'final_dataset_formatted_test.csv'\n",
    "\n",
    "# load data\n",
    "df = load_data(FILENAME)\n",
    "df_test = load_data(TEST_FILENAME)\n",
    "\n",
    "# labels\n",
    "labels = ['CC', 'NC', 'PW', 'HC', 'PL', 'CR', 'CG', 'BE', 'N']\n",
    "num_labels = 9\n",
    "\n",
    "# split data\n",
    "df_train, df_val = split_data(df)"
   ]
  },
  {
   "cell_type": "markdown",
   "id": "6fa26065",
   "metadata": {},
   "source": [
    "## Preprocess data"
   ]
  },
  {
   "cell_type": "code",
   "execution_count": 6,
   "id": "ac830095",
   "metadata": {},
   "outputs": [],
   "source": [
    "# clean text\n",
    "df_train['sentence'] = df_train['sentence'].apply(clean_text)\n",
    "df_val['sentence'] = df_val['sentence'].apply(clean_text)\n",
    "df_test['sentence'] = df_test['sentence'].apply(clean_text)"
   ]
  },
  {
   "cell_type": "code",
   "execution_count": 7,
   "id": "03353ad0",
   "metadata": {},
   "outputs": [
    {
     "data": {
      "text/plain": [
       "'total weight waste type disposal method'"
      ]
     },
     "execution_count": 7,
     "metadata": {},
     "output_type": "execute_result"
    }
   ],
   "source": [
    "# print processed sample data sentence\n",
    "df_train.iloc[10, 0]"
   ]
  },
  {
   "cell_type": "code",
   "execution_count": 8,
   "id": "1fbdaa1f",
   "metadata": {},
   "outputs": [],
   "source": [
    "# split text and labels\n",
    "train_texts = df_train.iloc[:, 0]\n",
    "train_labels = df_train.iloc[:, 1]\n",
    "valid_texts = df_val.iloc[:, 0]\n",
    "valid_labels = df_val.iloc[:, 1]\n",
    "test_texts = df_test.iloc[:, 0]\n",
    "test_labels = df_test.iloc[:, 1]"
   ]
  },
  {
   "cell_type": "code",
   "execution_count": 9,
   "id": "620c93e5",
   "metadata": {},
   "outputs": [
    {
     "name": "stdout",
     "output_type": "stream",
     "text": [
      "train size: 3645\n",
      "valid size: 405\n",
      "test size: 450\n"
     ]
    }
   ],
   "source": [
    "# get train, validation, and test dataset size\n",
    "train_size = len(train_texts)\n",
    "valid_size = len(valid_texts)\n",
    "test_size = len(test_texts)\n",
    "\n",
    "print(f'train size: {train_size}')\n",
    "print(f'valid size: {valid_size}')\n",
    "print(f'test size: {test_size}')"
   ]
  },
  {
   "cell_type": "markdown",
   "id": "081a15d8",
   "metadata": {},
   "source": [
    "## Fine-Tune Model"
   ]
  },
  {
   "cell_type": "code",
   "execution_count": 10,
   "id": "be038d83",
   "metadata": {},
   "outputs": [
    {
     "name": "stderr",
     "output_type": "stream",
     "text": [
      "C:\\Users\\cinni\\anaconda3\\envs\\uropESG\\lib\\site-packages\\sklearn\\linear_model\\_logistic.py:444: ConvergenceWarning: lbfgs failed to converge (status=1):\n",
      "STOP: TOTAL NO. of ITERATIONS REACHED LIMIT.\n",
      "\n",
      "Increase the number of iterations (max_iter) or scale the data as shown in:\n",
      "    https://scikit-learn.org/stable/modules/preprocessing.html\n",
      "Please also refer to the documentation for alternative solver options:\n",
      "    https://scikit-learn.org/stable/modules/linear_model.html#logistic-regression\n",
      "  n_iter_i = _check_optimize_result(\n",
      "C:\\Users\\cinni\\anaconda3\\envs\\uropESG\\lib\\site-packages\\sklearn\\linear_model\\_logistic.py:444: ConvergenceWarning: lbfgs failed to converge (status=1):\n",
      "STOP: TOTAL NO. of ITERATIONS REACHED LIMIT.\n",
      "\n",
      "Increase the number of iterations (max_iter) or scale the data as shown in:\n",
      "    https://scikit-learn.org/stable/modules/preprocessing.html\n",
      "Please also refer to the documentation for alternative solver options:\n",
      "    https://scikit-learn.org/stable/modules/linear_model.html#logistic-regression\n",
      "  n_iter_i = _check_optimize_result(\n",
      "C:\\Users\\cinni\\anaconda3\\envs\\uropESG\\lib\\site-packages\\sklearn\\linear_model\\_logistic.py:444: ConvergenceWarning: lbfgs failed to converge (status=1):\n",
      "STOP: TOTAL NO. of ITERATIONS REACHED LIMIT.\n",
      "\n",
      "Increase the number of iterations (max_iter) or scale the data as shown in:\n",
      "    https://scikit-learn.org/stable/modules/preprocessing.html\n",
      "Please also refer to the documentation for alternative solver options:\n",
      "    https://scikit-learn.org/stable/modules/linear_model.html#logistic-regression\n",
      "  n_iter_i = _check_optimize_result(\n",
      "C:\\Users\\cinni\\anaconda3\\envs\\uropESG\\lib\\site-packages\\sklearn\\linear_model\\_logistic.py:444: ConvergenceWarning: lbfgs failed to converge (status=1):\n",
      "STOP: TOTAL NO. of ITERATIONS REACHED LIMIT.\n",
      "\n",
      "Increase the number of iterations (max_iter) or scale the data as shown in:\n",
      "    https://scikit-learn.org/stable/modules/preprocessing.html\n",
      "Please also refer to the documentation for alternative solver options:\n",
      "    https://scikit-learn.org/stable/modules/linear_model.html#logistic-regression\n",
      "  n_iter_i = _check_optimize_result(\n",
      "C:\\Users\\cinni\\anaconda3\\envs\\uropESG\\lib\\site-packages\\sklearn\\linear_model\\_logistic.py:444: ConvergenceWarning: lbfgs failed to converge (status=1):\n",
      "STOP: TOTAL NO. of ITERATIONS REACHED LIMIT.\n",
      "\n",
      "Increase the number of iterations (max_iter) or scale the data as shown in:\n",
      "    https://scikit-learn.org/stable/modules/preprocessing.html\n",
      "Please also refer to the documentation for alternative solver options:\n",
      "    https://scikit-learn.org/stable/modules/linear_model.html#logistic-regression\n",
      "  n_iter_i = _check_optimize_result(\n",
      "C:\\Users\\cinni\\anaconda3\\envs\\uropESG\\lib\\site-packages\\sklearn\\linear_model\\_logistic.py:444: ConvergenceWarning: lbfgs failed to converge (status=1):\n",
      "STOP: TOTAL NO. of ITERATIONS REACHED LIMIT.\n",
      "\n",
      "Increase the number of iterations (max_iter) or scale the data as shown in:\n",
      "    https://scikit-learn.org/stable/modules/preprocessing.html\n",
      "Please also refer to the documentation for alternative solver options:\n",
      "    https://scikit-learn.org/stable/modules/linear_model.html#logistic-regression\n",
      "  n_iter_i = _check_optimize_result(\n",
      "C:\\Users\\cinni\\anaconda3\\envs\\uropESG\\lib\\site-packages\\sklearn\\linear_model\\_logistic.py:444: ConvergenceWarning: lbfgs failed to converge (status=1):\n",
      "STOP: TOTAL NO. of ITERATIONS REACHED LIMIT.\n",
      "\n",
      "Increase the number of iterations (max_iter) or scale the data as shown in:\n",
      "    https://scikit-learn.org/stable/modules/preprocessing.html\n",
      "Please also refer to the documentation for alternative solver options:\n",
      "    https://scikit-learn.org/stable/modules/linear_model.html#logistic-regression\n",
      "  n_iter_i = _check_optimize_result(\n",
      "C:\\Users\\cinni\\anaconda3\\envs\\uropESG\\lib\\site-packages\\sklearn\\linear_model\\_logistic.py:444: ConvergenceWarning: lbfgs failed to converge (status=1):\n",
      "STOP: TOTAL NO. of ITERATIONS REACHED LIMIT.\n",
      "\n",
      "Increase the number of iterations (max_iter) or scale the data as shown in:\n",
      "    https://scikit-learn.org/stable/modules/preprocessing.html\n",
      "Please also refer to the documentation for alternative solver options:\n",
      "    https://scikit-learn.org/stable/modules/linear_model.html#logistic-regression\n",
      "  n_iter_i = _check_optimize_result(\n",
      "C:\\Users\\cinni\\anaconda3\\envs\\uropESG\\lib\\site-packages\\sklearn\\linear_model\\_logistic.py:444: ConvergenceWarning: lbfgs failed to converge (status=1):\n",
      "STOP: TOTAL NO. of ITERATIONS REACHED LIMIT.\n",
      "\n",
      "Increase the number of iterations (max_iter) or scale the data as shown in:\n",
      "    https://scikit-learn.org/stable/modules/preprocessing.html\n",
      "Please also refer to the documentation for alternative solver options:\n",
      "    https://scikit-learn.org/stable/modules/linear_model.html#logistic-regression\n",
      "  n_iter_i = _check_optimize_result(\n",
      "C:\\Users\\cinni\\anaconda3\\envs\\uropESG\\lib\\site-packages\\sklearn\\linear_model\\_logistic.py:444: ConvergenceWarning: lbfgs failed to converge (status=1):\n",
      "STOP: TOTAL NO. of ITERATIONS REACHED LIMIT.\n",
      "\n",
      "Increase the number of iterations (max_iter) or scale the data as shown in:\n",
      "    https://scikit-learn.org/stable/modules/preprocessing.html\n",
      "Please also refer to the documentation for alternative solver options:\n",
      "    https://scikit-learn.org/stable/modules/linear_model.html#logistic-regression\n",
      "  n_iter_i = _check_optimize_result(\n",
      "C:\\Users\\cinni\\anaconda3\\envs\\uropESG\\lib\\site-packages\\sklearn\\linear_model\\_logistic.py:444: ConvergenceWarning: lbfgs failed to converge (status=1):\n",
      "STOP: TOTAL NO. of ITERATIONS REACHED LIMIT.\n",
      "\n",
      "Increase the number of iterations (max_iter) or scale the data as shown in:\n",
      "    https://scikit-learn.org/stable/modules/preprocessing.html\n",
      "Please also refer to the documentation for alternative solver options:\n",
      "    https://scikit-learn.org/stable/modules/linear_model.html#logistic-regression\n",
      "  n_iter_i = _check_optimize_result(\n",
      "C:\\Users\\cinni\\anaconda3\\envs\\uropESG\\lib\\site-packages\\sklearn\\linear_model\\_logistic.py:444: ConvergenceWarning: lbfgs failed to converge (status=1):\n",
      "STOP: TOTAL NO. of ITERATIONS REACHED LIMIT.\n",
      "\n",
      "Increase the number of iterations (max_iter) or scale the data as shown in:\n",
      "    https://scikit-learn.org/stable/modules/preprocessing.html\n",
      "Please also refer to the documentation for alternative solver options:\n",
      "    https://scikit-learn.org/stable/modules/linear_model.html#logistic-regression\n",
      "  n_iter_i = _check_optimize_result(\n",
      "C:\\Users\\cinni\\anaconda3\\envs\\uropESG\\lib\\site-packages\\sklearn\\linear_model\\_logistic.py:444: ConvergenceWarning: lbfgs failed to converge (status=1):\n",
      "STOP: TOTAL NO. of ITERATIONS REACHED LIMIT.\n",
      "\n",
      "Increase the number of iterations (max_iter) or scale the data as shown in:\n",
      "    https://scikit-learn.org/stable/modules/preprocessing.html\n",
      "Please also refer to the documentation for alternative solver options:\n",
      "    https://scikit-learn.org/stable/modules/linear_model.html#logistic-regression\n",
      "  n_iter_i = _check_optimize_result(\n",
      "C:\\Users\\cinni\\anaconda3\\envs\\uropESG\\lib\\site-packages\\sklearn\\linear_model\\_logistic.py:444: ConvergenceWarning: lbfgs failed to converge (status=1):\n",
      "STOP: TOTAL NO. of ITERATIONS REACHED LIMIT.\n",
      "\n",
      "Increase the number of iterations (max_iter) or scale the data as shown in:\n",
      "    https://scikit-learn.org/stable/modules/preprocessing.html\n",
      "Please also refer to the documentation for alternative solver options:\n",
      "    https://scikit-learn.org/stable/modules/linear_model.html#logistic-regression\n",
      "  n_iter_i = _check_optimize_result(\n",
      "C:\\Users\\cinni\\anaconda3\\envs\\uropESG\\lib\\site-packages\\sklearn\\linear_model\\_logistic.py:444: ConvergenceWarning: lbfgs failed to converge (status=1):\n",
      "STOP: TOTAL NO. of ITERATIONS REACHED LIMIT.\n",
      "\n",
      "Increase the number of iterations (max_iter) or scale the data as shown in:\n",
      "    https://scikit-learn.org/stable/modules/preprocessing.html\n",
      "Please also refer to the documentation for alternative solver options:\n",
      "    https://scikit-learn.org/stable/modules/linear_model.html#logistic-regression\n",
      "  n_iter_i = _check_optimize_result(\n",
      "C:\\Users\\cinni\\anaconda3\\envs\\uropESG\\lib\\site-packages\\sklearn\\linear_model\\_logistic.py:444: ConvergenceWarning: lbfgs failed to converge (status=1):\n",
      "STOP: TOTAL NO. of ITERATIONS REACHED LIMIT.\n",
      "\n",
      "Increase the number of iterations (max_iter) or scale the data as shown in:\n",
      "    https://scikit-learn.org/stable/modules/preprocessing.html\n",
      "Please also refer to the documentation for alternative solver options:\n",
      "    https://scikit-learn.org/stable/modules/linear_model.html#logistic-regression\n",
      "  n_iter_i = _check_optimize_result(\n"
     ]
    },
    {
     "name": "stdout",
     "output_type": "stream",
     "text": [
      "Best model: \n",
      "C: 100000.0, max_iter: 100, acc: 0.8320987654320988, macro_f1: 0.8331768439205364\n"
     ]
    }
   ],
   "source": [
    "C_list = [1e4, 1e5, 1e6, 1e7, 1e8] #1e5\n",
    "max_iter_list = [25, 50, 100, 150, 200] #100\n",
    "\n",
    "best_C = 0\n",
    "best_max_iter = 0\n",
    "best_acc = 0\n",
    "max_f1 = 0\n",
    "\n",
    "for C in C_list:\n",
    "    for max_iter in max_iter_list:\n",
    "        \n",
    "        # build model\n",
    "        logreg = Pipeline([('vect', CountVectorizer()),\n",
    "                ('tfidf', TfidfTransformer()),\n",
    "                ('clf', LogisticRegression(n_jobs=1, C=C, max_iter=max_iter)),\n",
    "               ])\n",
    "\n",
    "        # train model\n",
    "        logreg.fit(train_texts, train_labels)\n",
    "\n",
    "        # generate prediction\n",
    "        y_pred = logreg.predict(valid_texts)\n",
    "\n",
    "        # evaluate performance\n",
    "        acc = accuracy_score(valid_labels, y_pred)\n",
    "        f1 = f1_score(valid_labels, y_pred, average='macro')\n",
    "    #     print(f'C: {C}:')\n",
    "    #     print(f'accuracy: {acc:.4f}')\n",
    "    #     print(f'macro_f1: {f1:.4f}')\n",
    "\n",
    "        # save best model (highest macro_f1 score)\n",
    "        if f1 >= max_f1:\n",
    "            best_C = C\n",
    "            best_max_iter = max_iter\n",
    "            best_acc = acc\n",
    "            max_f1 = f1\n",
    "\n",
    "    #     print()\n",
    "\n",
    "print(f'Best model: ')\n",
    "print(f'C: {best_C}, max_iter: {best_max_iter}, acc: {best_acc}, macro_f1: {max_f1}')"
   ]
  },
  {
   "cell_type": "markdown",
   "id": "933d93a1",
   "metadata": {},
   "source": [
    "## Final Logistic Regression Model"
   ]
  },
  {
   "cell_type": "code",
   "execution_count": 11,
   "id": "894059d1",
   "metadata": {},
   "outputs": [
    {
     "name": "stdout",
     "output_type": "stream",
     "text": [
      "accuracy 0.8320987654320988\n",
      "macro_f1 score: 0.8331768439205364\n",
      "              precision    recall  f1-score   support\n",
      "\n",
      "          CC       0.86      0.82      0.84        45\n",
      "          NC       0.95      0.84      0.89        45\n",
      "          PW       0.91      0.89      0.90        45\n",
      "          HC       0.74      0.82      0.78        45\n",
      "          PL       0.73      0.80      0.77        45\n",
      "          CR       0.86      0.80      0.83        45\n",
      "          CG       0.76      0.93      0.84        45\n",
      "          BE       0.81      0.76      0.78        45\n",
      "           N       0.93      0.82      0.87        45\n",
      "\n",
      "    accuracy                           0.83       405\n",
      "   macro avg       0.84      0.83      0.83       405\n",
      "weighted avg       0.84      0.83      0.83       405\n",
      "\n"
     ]
    },
    {
     "name": "stderr",
     "output_type": "stream",
     "text": [
      "C:\\Users\\cinni\\anaconda3\\envs\\uropESG\\lib\\site-packages\\sklearn\\linear_model\\_logistic.py:444: ConvergenceWarning: lbfgs failed to converge (status=1):\n",
      "STOP: TOTAL NO. of ITERATIONS REACHED LIMIT.\n",
      "\n",
      "Increase the number of iterations (max_iter) or scale the data as shown in:\n",
      "    https://scikit-learn.org/stable/modules/preprocessing.html\n",
      "Please also refer to the documentation for alternative solver options:\n",
      "    https://scikit-learn.org/stable/modules/linear_model.html#logistic-regression\n",
      "  n_iter_i = _check_optimize_result(\n"
     ]
    }
   ],
   "source": [
    "logreg = Pipeline([('vect', CountVectorizer()),\n",
    "                ('tfidf', TfidfTransformer()),\n",
    "                ('clf', LogisticRegression(n_jobs=1, C=best_C, max_iter=best_max_iter)),\n",
    "               ])\n",
    "logreg.fit(train_texts, train_labels)\n",
    "\n",
    "y_pred = logreg.predict(valid_texts)\n",
    "f1 = f1_score(valid_labels, y_pred, average='macro')\n",
    "\n",
    "print('accuracy %s' % accuracy_score(y_pred, valid_labels))\n",
    "print(f'macro_f1 score: {f1}')\n",
    "print(classification_report(valid_labels, y_pred,target_names=labels))"
   ]
  },
  {
   "cell_type": "markdown",
   "id": "56d2e91a",
   "metadata": {},
   "source": [
    "## Final Model Test Prediction"
   ]
  },
  {
   "cell_type": "code",
   "execution_count": 12,
   "id": "60427634",
   "metadata": {},
   "outputs": [
    {
     "name": "stdout",
     "output_type": "stream",
     "text": [
      "accuracy 0.84\n",
      "macro_f1 score: 0.8408915587116346\n",
      "              precision    recall  f1-score   support\n",
      "\n",
      "          CC       0.94      0.90      0.92        50\n",
      "          NC       0.88      0.88      0.88        50\n",
      "          PW       0.84      0.86      0.85        50\n",
      "          HC       0.69      0.76      0.72        50\n",
      "          PL       0.76      0.84      0.80        50\n",
      "          CR       0.84      0.76      0.80        50\n",
      "          CG       0.93      0.86      0.90        50\n",
      "          BE       0.85      0.80      0.82        50\n",
      "           N       0.85      0.90      0.87        50\n",
      "\n",
      "    accuracy                           0.84       450\n",
      "   macro avg       0.84      0.84      0.84       450\n",
      "weighted avg       0.84      0.84      0.84       450\n",
      "\n"
     ]
    }
   ],
   "source": [
    "# generate prediction\n",
    "y_pred = logreg.predict(test_texts)\n",
    "f1 = f1_score(test_labels, y_pred, average='macro')\n",
    "\n",
    "# evaluate model performance\n",
    "print('accuracy %s' % accuracy_score(y_pred, test_labels))\n",
    "print(f'macro_f1 score: {f1}')\n",
    "print(classification_report(test_labels, y_pred,target_names=labels))"
   ]
  },
  {
   "cell_type": "code",
   "execution_count": 13,
   "id": "a15ddfb3",
   "metadata": {},
   "outputs": [
    {
     "data": {
      "text/plain": [
       "<sklearn.metrics._plot.confusion_matrix.ConfusionMatrixDisplay at 0x1b8adf5aca0>"
      ]
     },
     "execution_count": 13,
     "metadata": {},
     "output_type": "execute_result"
    },
    {
     "data": {
      "image/png": "[encoded data removed]",
      "text/plain": [
       "<Figure size 720x720 with 2 Axes>"
      ]
     },
     "metadata": {
      "needs_background": "light"
     },
     "output_type": "display_data"
    }
   ],
   "source": [
    "# plot confusion matrix\n",
    "cm = confusion_matrix(test_labels, y_pred , normalize='pred')\n",
    "cmp = ConfusionMatrixDisplay(confusion_matrix=cm, display_labels=labels)\n",
    "fig, ax = plt.subplots(figsize=(10,10))\n",
    "cmp.plot(ax=ax)"
   ]
  },
  {
   "cell_type": "code",
   "execution_count": null,
   "id": "9f9b525f",
   "metadata": {},
   "outputs": [],
   "source": []
  }
 ],
 "metadata": {
  "kernelspec": {
   "display_name": "Python 3 (ipykernel)",
   "language": "python",
   "name": "python3"
  },
  "language_info": {
   "codemirror_mode": {
    "name": "ipython",
    "version": 3
   },
   "file_extension": ".py",
   "mimetype": "text/x-python",
   "name": "python",
   "nbconvert_exporter": "python",
   "pygments_lexer": "ipython3",
   "version": "3.8.13"
  }
 },
 "nbformat": 4,
 "nbformat_minor": 5
}
